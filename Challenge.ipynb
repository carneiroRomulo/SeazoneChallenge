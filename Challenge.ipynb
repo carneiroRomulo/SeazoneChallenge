{
  "nbformat": 4,
  "nbformat_minor": 0,
  "metadata": {
    "colab": {
      "name": "Challenge.ipynb",
      "provenance": []
    },
    "kernelspec": {
      "display_name": "Python 3",
      "name": "python3"
    },
    "language_info": {
      "name": "python"
    }
  },
  "cells": [
    {
      "cell_type": "markdown",
      "metadata": {
        "id": "45KskOF1BDDi"
      },
      "source": [
        "# Import Libraries"
      ]
    },
    {
      "cell_type": "code",
      "metadata": {
        "id": "E0t24kuzA8Pf"
      },
      "source": [
        "import numpy as np\n",
        "import pandas as pd\n",
        "import matplotlib.pyplot as plt\n"
      ],
      "execution_count": 1,
      "outputs": []
    },
    {
      "cell_type": "markdown",
      "metadata": {
        "id": "V5K_YADfBQJ8"
      },
      "source": [
        "# Import Dataset"
      ]
    },
    {
      "cell_type": "code",
      "metadata": {
        "id": "5qB6esG5BSe1"
      },
      "source": [
        "raw_details_df = pd.read_csv(\"details.csv\")\n",
        "raw_priceav_df = pd.read_csv(\"priceav.csv\")"
      ],
      "execution_count": 2,
      "outputs": []
    },
    {
      "cell_type": "code",
      "metadata": {
        "colab": {
          "base_uri": "https://localhost:8080/",
          "height": 0
        },
        "id": "eWW42gS5_yCF",
        "outputId": "f54e5bf2-1d2a-41a9-e6da-6987359b8ac3"
      },
      "source": [
        "raw_details_df.head()"
      ],
      "execution_count": 3,
      "outputs": [
        {
          "output_type": "execute_result",
          "data": {
            "text/html": [
              "<div>\n",
              "<style scoped>\n",
              "    .dataframe tbody tr th:only-of-type {\n",
              "        vertical-align: middle;\n",
              "    }\n",
              "\n",
              "    .dataframe tbody tr th {\n",
              "        vertical-align: top;\n",
              "    }\n",
              "\n",
              "    .dataframe thead th {\n",
              "        text-align: right;\n",
              "    }\n",
              "</style>\n",
              "<table border=\"1\" class=\"dataframe\">\n",
              "  <thead>\n",
              "    <tr style=\"text-align: right;\">\n",
              "      <th></th>\n",
              "      <th>Unnamed: 0</th>\n",
              "      <th>airbnb_listing_id</th>\n",
              "      <th>suburb</th>\n",
              "      <th>ad_name</th>\n",
              "      <th>number_of_bedrooms</th>\n",
              "      <th>number_of_bathrooms</th>\n",
              "      <th>star_rating</th>\n",
              "      <th>is_superhost</th>\n",
              "      <th>number_of_reviews</th>\n",
              "    </tr>\n",
              "  </thead>\n",
              "  <tbody>\n",
              "    <tr>\n",
              "      <th>0</th>\n",
              "      <td>0</td>\n",
              "      <td>31389869</td>\n",
              "      <td>Jurerê</td>\n",
              "      <td>Lindo Apartamento em Jurerê</td>\n",
              "      <td>2.0</td>\n",
              "      <td>2.0</td>\n",
              "      <td>5.0</td>\n",
              "      <td>False</td>\n",
              "      <td>15.0</td>\n",
              "    </tr>\n",
              "    <tr>\n",
              "      <th>1</th>\n",
              "      <td>1</td>\n",
              "      <td>40010667</td>\n",
              "      <td>Canasvieiras</td>\n",
              "      <td>Residencial Arruda, 1 quarto</td>\n",
              "      <td>1.0</td>\n",
              "      <td>1.0</td>\n",
              "      <td>NaN</td>\n",
              "      <td>False</td>\n",
              "      <td>0.0</td>\n",
              "    </tr>\n",
              "    <tr>\n",
              "      <th>2</th>\n",
              "      <td>2</td>\n",
              "      <td>38905997</td>\n",
              "      <td>Ingleses</td>\n",
              "      <td>Apartamento NOVO Completo - Moderno e Sofisticado</td>\n",
              "      <td>1.0</td>\n",
              "      <td>1.0</td>\n",
              "      <td>4.5</td>\n",
              "      <td>True</td>\n",
              "      <td>13.0</td>\n",
              "    </tr>\n",
              "    <tr>\n",
              "      <th>3</th>\n",
              "      <td>3</td>\n",
              "      <td>22343656</td>\n",
              "      <td>Ingleses</td>\n",
              "      <td>06- Apartamento 02 habitaciones</td>\n",
              "      <td>2.0</td>\n",
              "      <td>1.0</td>\n",
              "      <td>5.0</td>\n",
              "      <td>True</td>\n",
              "      <td>28.0</td>\n",
              "    </tr>\n",
              "    <tr>\n",
              "      <th>4</th>\n",
              "      <td>4</td>\n",
              "      <td>18328184</td>\n",
              "      <td>Canasvieiras</td>\n",
              "      <td>Apto 2 quartos em Canasvieiras, Florianopolis!</td>\n",
              "      <td>2.0</td>\n",
              "      <td>1.0</td>\n",
              "      <td>5.0</td>\n",
              "      <td>True</td>\n",
              "      <td>35.0</td>\n",
              "    </tr>\n",
              "  </tbody>\n",
              "</table>\n",
              "</div>"
            ],
            "text/plain": [
              "   Unnamed: 0  airbnb_listing_id  ... is_superhost number_of_reviews\n",
              "0           0           31389869  ...        False              15.0\n",
              "1           1           40010667  ...        False               0.0\n",
              "2           2           38905997  ...         True              13.0\n",
              "3           3           22343656  ...         True              28.0\n",
              "4           4           18328184  ...         True              35.0\n",
              "\n",
              "[5 rows x 9 columns]"
            ]
          },
          "metadata": {
            "tags": []
          },
          "execution_count": 3
        }
      ]
    },
    {
      "cell_type": "code",
      "metadata": {
        "colab": {
          "base_uri": "https://localhost:8080/",
          "height": 0
        },
        "id": "xn9HeiCz_8zb",
        "outputId": "41702b0d-1ad8-4f83-a2fd-b3c46716c7a3"
      },
      "source": [
        "raw_priceav_df.head()\n"
      ],
      "execution_count": 4,
      "outputs": [
        {
          "output_type": "execute_result",
          "data": {
            "text/html": [
              "<div>\n",
              "<style scoped>\n",
              "    .dataframe tbody tr th:only-of-type {\n",
              "        vertical-align: middle;\n",
              "    }\n",
              "\n",
              "    .dataframe tbody tr th {\n",
              "        vertical-align: top;\n",
              "    }\n",
              "\n",
              "    .dataframe thead th {\n",
              "        text-align: right;\n",
              "    }\n",
              "</style>\n",
              "<table border=\"1\" class=\"dataframe\">\n",
              "  <thead>\n",
              "    <tr style=\"text-align: right;\">\n",
              "      <th></th>\n",
              "      <th>Unnamed: 0</th>\n",
              "      <th>Unnamed: 0.1</th>\n",
              "      <th>airbnb_listing_id</th>\n",
              "      <th>booked_on</th>\n",
              "      <th>date</th>\n",
              "      <th>price_string</th>\n",
              "      <th>occupied</th>\n",
              "    </tr>\n",
              "  </thead>\n",
              "  <tbody>\n",
              "    <tr>\n",
              "      <th>0</th>\n",
              "      <td>0</td>\n",
              "      <td>2148</td>\n",
              "      <td>40201349</td>\n",
              "      <td>blank</td>\n",
              "      <td>2020-11-15</td>\n",
              "      <td>250.0</td>\n",
              "      <td>0</td>\n",
              "    </tr>\n",
              "    <tr>\n",
              "      <th>1</th>\n",
              "      <td>1</td>\n",
              "      <td>2159</td>\n",
              "      <td>40201349</td>\n",
              "      <td>blank</td>\n",
              "      <td>2020-11-26</td>\n",
              "      <td>250.0</td>\n",
              "      <td>0</td>\n",
              "    </tr>\n",
              "    <tr>\n",
              "      <th>2</th>\n",
              "      <td>2</td>\n",
              "      <td>2160</td>\n",
              "      <td>40201349</td>\n",
              "      <td>blank</td>\n",
              "      <td>2020-11-27</td>\n",
              "      <td>250.0</td>\n",
              "      <td>0</td>\n",
              "    </tr>\n",
              "    <tr>\n",
              "      <th>3</th>\n",
              "      <td>3</td>\n",
              "      <td>2173</td>\n",
              "      <td>40201349</td>\n",
              "      <td>blank</td>\n",
              "      <td>2020-12-10</td>\n",
              "      <td>250.0</td>\n",
              "      <td>0</td>\n",
              "    </tr>\n",
              "    <tr>\n",
              "      <th>4</th>\n",
              "      <td>4</td>\n",
              "      <td>2226</td>\n",
              "      <td>40201349</td>\n",
              "      <td>blank</td>\n",
              "      <td>2021-02-01</td>\n",
              "      <td>250.0</td>\n",
              "      <td>0</td>\n",
              "    </tr>\n",
              "  </tbody>\n",
              "</table>\n",
              "</div>"
            ],
            "text/plain": [
              "   Unnamed: 0  Unnamed: 0.1  ...  price_string occupied\n",
              "0           0          2148  ...         250.0        0\n",
              "1           1          2159  ...         250.0        0\n",
              "2           2          2160  ...         250.0        0\n",
              "3           3          2173  ...         250.0        0\n",
              "4           4          2226  ...         250.0        0\n",
              "\n",
              "[5 rows x 7 columns]"
            ]
          },
          "metadata": {
            "tags": []
          },
          "execution_count": 4
        }
      ]
    },
    {
      "cell_type": "markdown",
      "metadata": {
        "id": "zRzIW2fu9xu5"
      },
      "source": [
        "# Checking if there is missing data"
      ]
    },
    {
      "cell_type": "code",
      "metadata": {
        "colab": {
          "base_uri": "https://localhost:8080/"
        },
        "id": "gRWnKaDi-fnX",
        "outputId": "1d1396c1-8769-493c-9cb2-f6c90ddec0a6"
      },
      "source": [
        "raw_details_df.dtypes"
      ],
      "execution_count": 5,
      "outputs": [
        {
          "output_type": "execute_result",
          "data": {
            "text/plain": [
              "Unnamed: 0               int64\n",
              "airbnb_listing_id        int64\n",
              "suburb                  object\n",
              "ad_name                 object\n",
              "number_of_bedrooms     float64\n",
              "number_of_bathrooms    float64\n",
              "star_rating            float64\n",
              "is_superhost              bool\n",
              "number_of_reviews      float64\n",
              "dtype: object"
            ]
          },
          "metadata": {
            "tags": []
          },
          "execution_count": 5
        }
      ]
    },
    {
      "cell_type": "code",
      "metadata": {
        "colab": {
          "base_uri": "https://localhost:8080/"
        },
        "id": "fWV5ns__-lGB",
        "outputId": "0587bf91-b3ac-45cf-c3de-8687df6df577"
      },
      "source": [
        "raw_priceav_df.dtypes"
      ],
      "execution_count": 6,
      "outputs": [
        {
          "output_type": "execute_result",
          "data": {
            "text/plain": [
              "Unnamed: 0             int64\n",
              "Unnamed: 0.1           int64\n",
              "airbnb_listing_id      int64\n",
              "booked_on             object\n",
              "date                  object\n",
              "price_string         float64\n",
              "occupied               int64\n",
              "dtype: object"
            ]
          },
          "metadata": {
            "tags": []
          },
          "execution_count": 6
        }
      ]
    },
    {
      "cell_type": "code",
      "metadata": {
        "colab": {
          "base_uri": "https://localhost:8080/"
        },
        "id": "o8_pknk963eW",
        "outputId": "79c5ab75-c075-4575-9393-b40fbe750220"
      },
      "source": [
        "raw_details_df.isna().sum()"
      ],
      "execution_count": 7,
      "outputs": [
        {
          "output_type": "execute_result",
          "data": {
            "text/plain": [
              "Unnamed: 0                0\n",
              "airbnb_listing_id         0\n",
              "suburb                    0\n",
              "ad_name                   0\n",
              "number_of_bedrooms      183\n",
              "number_of_bathrooms       1\n",
              "star_rating            2121\n",
              "is_superhost              0\n",
              "number_of_reviews         7\n",
              "dtype: int64"
            ]
          },
          "metadata": {
            "tags": []
          },
          "execution_count": 7
        }
      ]
    },
    {
      "cell_type": "code",
      "metadata": {
        "colab": {
          "base_uri": "https://localhost:8080/"
        },
        "id": "FnjlTJBz7Ejm",
        "outputId": "33671b4b-6322-4a10-85c7-bce8fafb3697"
      },
      "source": [
        "raw_priceav_df.isna().sum()"
      ],
      "execution_count": 8,
      "outputs": [
        {
          "output_type": "execute_result",
          "data": {
            "text/plain": [
              "Unnamed: 0           0\n",
              "Unnamed: 0.1         0\n",
              "airbnb_listing_id    0\n",
              "booked_on            0\n",
              "date                 0\n",
              "price_string         0\n",
              "occupied             0\n",
              "dtype: int64"
            ]
          },
          "metadata": {
            "tags": []
          },
          "execution_count": 8
        }
      ]
    },
    {
      "cell_type": "markdown",
      "metadata": {
        "id": "YgEBKfLQ97ox"
      },
      "source": [
        "# 1. Sort neighborhoods in ascending order of number of listings"
      ]
    },
    {
      "cell_type": "code",
      "metadata": {
        "id": "g0M4U9nk_r2D"
      },
      "source": [
        "details_df = raw_details_df.drop(columns=['Unnamed: 0', 'ad_name'])\n",
        "priceav_df = raw_priceav_df.drop(columns=['Unnamed: 0', 'Unnamed: 0.1'])"
      ],
      "execution_count": 9,
      "outputs": []
    },
    {
      "cell_type": "code",
      "metadata": {
        "colab": {
          "base_uri": "https://localhost:8080/"
        },
        "id": "fSRSwCKy7iKs",
        "outputId": "a67492a7-3b8c-43fe-e5ba-4e871b634d3e"
      },
      "source": [
        "details_df['suburb'].value_counts()"
      ],
      "execution_count": 10,
      "outputs": [
        {
          "output_type": "execute_result",
          "data": {
            "text/plain": [
              "Ingleses              2388\n",
              "Canasvieiras          1177\n",
              "Jurerê                 539\n",
              "Lagoa da Conceição     309\n",
              "Centro                 278\n",
              "Name: suburb, dtype: int64"
            ]
          },
          "metadata": {
            "tags": []
          },
          "execution_count": 10
        }
      ]
    },
    {
      "cell_type": "code",
      "metadata": {
        "colab": {
          "base_uri": "https://localhost:8080/",
          "height": 0
        },
        "id": "hNOUCVRfuZcB",
        "outputId": "10d591aa-6708-4c20-e2d9-746132a25544"
      },
      "source": [
        "details_df.sort_values(['suburb', 'airbnb_listing_id'], inplace=True)\n",
        "details_df"
      ],
      "execution_count": 11,
      "outputs": [
        {
          "output_type": "execute_result",
          "data": {
            "text/html": [
              "<div>\n",
              "<style scoped>\n",
              "    .dataframe tbody tr th:only-of-type {\n",
              "        vertical-align: middle;\n",
              "    }\n",
              "\n",
              "    .dataframe tbody tr th {\n",
              "        vertical-align: top;\n",
              "    }\n",
              "\n",
              "    .dataframe thead th {\n",
              "        text-align: right;\n",
              "    }\n",
              "</style>\n",
              "<table border=\"1\" class=\"dataframe\">\n",
              "  <thead>\n",
              "    <tr style=\"text-align: right;\">\n",
              "      <th></th>\n",
              "      <th>airbnb_listing_id</th>\n",
              "      <th>suburb</th>\n",
              "      <th>number_of_bedrooms</th>\n",
              "      <th>number_of_bathrooms</th>\n",
              "      <th>star_rating</th>\n",
              "      <th>is_superhost</th>\n",
              "      <th>number_of_reviews</th>\n",
              "    </tr>\n",
              "  </thead>\n",
              "  <tbody>\n",
              "    <tr>\n",
              "      <th>2063</th>\n",
              "      <td>108658</td>\n",
              "      <td>Canasvieiras</td>\n",
              "      <td>2.0</td>\n",
              "      <td>2.0</td>\n",
              "      <td>NaN</td>\n",
              "      <td>False</td>\n",
              "      <td>0.0</td>\n",
              "    </tr>\n",
              "    <tr>\n",
              "      <th>1341</th>\n",
              "      <td>279586</td>\n",
              "      <td>Canasvieiras</td>\n",
              "      <td>3.0</td>\n",
              "      <td>2.0</td>\n",
              "      <td>4.5</td>\n",
              "      <td>False</td>\n",
              "      <td>52.0</td>\n",
              "    </tr>\n",
              "    <tr>\n",
              "      <th>3332</th>\n",
              "      <td>333619</td>\n",
              "      <td>Canasvieiras</td>\n",
              "      <td>1.0</td>\n",
              "      <td>1.0</td>\n",
              "      <td>5.0</td>\n",
              "      <td>True</td>\n",
              "      <td>26.0</td>\n",
              "    </tr>\n",
              "    <tr>\n",
              "      <th>2717</th>\n",
              "      <td>344879</td>\n",
              "      <td>Canasvieiras</td>\n",
              "      <td>2.0</td>\n",
              "      <td>1.0</td>\n",
              "      <td>5.0</td>\n",
              "      <td>True</td>\n",
              "      <td>26.0</td>\n",
              "    </tr>\n",
              "    <tr>\n",
              "      <th>2680</th>\n",
              "      <td>346042</td>\n",
              "      <td>Canasvieiras</td>\n",
              "      <td>1.0</td>\n",
              "      <td>1.0</td>\n",
              "      <td>5.0</td>\n",
              "      <td>True</td>\n",
              "      <td>26.0</td>\n",
              "    </tr>\n",
              "    <tr>\n",
              "      <th>...</th>\n",
              "      <td>...</td>\n",
              "      <td>...</td>\n",
              "      <td>...</td>\n",
              "      <td>...</td>\n",
              "      <td>...</td>\n",
              "      <td>...</td>\n",
              "      <td>...</td>\n",
              "    </tr>\n",
              "    <tr>\n",
              "      <th>1369</th>\n",
              "      <td>44614390</td>\n",
              "      <td>Lagoa da Conceição</td>\n",
              "      <td>2.0</td>\n",
              "      <td>1.0</td>\n",
              "      <td>NaN</td>\n",
              "      <td>False</td>\n",
              "      <td>0.0</td>\n",
              "    </tr>\n",
              "    <tr>\n",
              "      <th>4293</th>\n",
              "      <td>44618139</td>\n",
              "      <td>Lagoa da Conceição</td>\n",
              "      <td>1.0</td>\n",
              "      <td>1.0</td>\n",
              "      <td>NaN</td>\n",
              "      <td>False</td>\n",
              "      <td>0.0</td>\n",
              "    </tr>\n",
              "    <tr>\n",
              "      <th>4472</th>\n",
              "      <td>44648260</td>\n",
              "      <td>Lagoa da Conceição</td>\n",
              "      <td>1.0</td>\n",
              "      <td>1.0</td>\n",
              "      <td>NaN</td>\n",
              "      <td>False</td>\n",
              "      <td>0.0</td>\n",
              "    </tr>\n",
              "    <tr>\n",
              "      <th>3497</th>\n",
              "      <td>44890132</td>\n",
              "      <td>Lagoa da Conceição</td>\n",
              "      <td>1.0</td>\n",
              "      <td>1.0</td>\n",
              "      <td>5.0</td>\n",
              "      <td>False</td>\n",
              "      <td>17.0</td>\n",
              "    </tr>\n",
              "    <tr>\n",
              "      <th>3156</th>\n",
              "      <td>45575044</td>\n",
              "      <td>Lagoa da Conceição</td>\n",
              "      <td>2.0</td>\n",
              "      <td>2.0</td>\n",
              "      <td>5.0</td>\n",
              "      <td>True</td>\n",
              "      <td>14.0</td>\n",
              "    </tr>\n",
              "  </tbody>\n",
              "</table>\n",
              "<p>4691 rows × 7 columns</p>\n",
              "</div>"
            ],
            "text/plain": [
              "      airbnb_listing_id              suburb  ...  is_superhost  number_of_reviews\n",
              "2063             108658        Canasvieiras  ...         False                0.0\n",
              "1341             279586        Canasvieiras  ...         False               52.0\n",
              "3332             333619        Canasvieiras  ...          True               26.0\n",
              "2717             344879        Canasvieiras  ...          True               26.0\n",
              "2680             346042        Canasvieiras  ...          True               26.0\n",
              "...                 ...                 ...  ...           ...                ...\n",
              "1369           44614390  Lagoa da Conceição  ...         False                0.0\n",
              "4293           44618139  Lagoa da Conceição  ...         False                0.0\n",
              "4472           44648260  Lagoa da Conceição  ...         False                0.0\n",
              "3497           44890132  Lagoa da Conceição  ...         False               17.0\n",
              "3156           45575044  Lagoa da Conceição  ...          True               14.0\n",
              "\n",
              "[4691 rows x 7 columns]"
            ]
          },
          "metadata": {
            "tags": []
          },
          "execution_count": 11
        }
      ]
    },
    {
      "cell_type": "markdown",
      "metadata": {
        "id": "LVuyqYtZBfWS"
      },
      "source": [
        "# 2. Sort the neighborhoods in ascending order of average listing earnings."
      ]
    },
    {
      "cell_type": "code",
      "metadata": {
        "colab": {
          "base_uri": "https://localhost:8080/",
          "height": 204
        },
        "id": "B91zQ6a0za1r",
        "outputId": "593b06a4-b2de-4e67-a825-de50e654e1cd"
      },
      "source": [
        "priceav_df.sort_values(['airbnb_listing_id'], inplace=True)\n",
        "priceav_df.head()"
      ],
      "execution_count": 12,
      "outputs": [
        {
          "output_type": "execute_result",
          "data": {
            "text/html": [
              "<div>\n",
              "<style scoped>\n",
              "    .dataframe tbody tr th:only-of-type {\n",
              "        vertical-align: middle;\n",
              "    }\n",
              "\n",
              "    .dataframe tbody tr th {\n",
              "        vertical-align: top;\n",
              "    }\n",
              "\n",
              "    .dataframe thead th {\n",
              "        text-align: right;\n",
              "    }\n",
              "</style>\n",
              "<table border=\"1\" class=\"dataframe\">\n",
              "  <thead>\n",
              "    <tr style=\"text-align: right;\">\n",
              "      <th></th>\n",
              "      <th>airbnb_listing_id</th>\n",
              "      <th>booked_on</th>\n",
              "      <th>date</th>\n",
              "      <th>price_string</th>\n",
              "      <th>occupied</th>\n",
              "    </tr>\n",
              "  </thead>\n",
              "  <tbody>\n",
              "    <tr>\n",
              "      <th>174880</th>\n",
              "      <td>108658</td>\n",
              "      <td>2020-11-17 00:00:00</td>\n",
              "      <td>2020-12-11</td>\n",
              "      <td>300.0</td>\n",
              "      <td>1</td>\n",
              "    </tr>\n",
              "    <tr>\n",
              "      <th>174895</th>\n",
              "      <td>108658</td>\n",
              "      <td>blank</td>\n",
              "      <td>2020-12-26</td>\n",
              "      <td>500.0</td>\n",
              "      <td>0</td>\n",
              "    </tr>\n",
              "    <tr>\n",
              "      <th>174896</th>\n",
              "      <td>108658</td>\n",
              "      <td>blank</td>\n",
              "      <td>2020-12-27</td>\n",
              "      <td>500.0</td>\n",
              "      <td>0</td>\n",
              "    </tr>\n",
              "    <tr>\n",
              "      <th>174897</th>\n",
              "      <td>108658</td>\n",
              "      <td>blank</td>\n",
              "      <td>2020-12-28</td>\n",
              "      <td>500.0</td>\n",
              "      <td>0</td>\n",
              "    </tr>\n",
              "    <tr>\n",
              "      <th>174898</th>\n",
              "      <td>108658</td>\n",
              "      <td>blank</td>\n",
              "      <td>2020-12-29</td>\n",
              "      <td>500.0</td>\n",
              "      <td>0</td>\n",
              "    </tr>\n",
              "  </tbody>\n",
              "</table>\n",
              "</div>"
            ],
            "text/plain": [
              "        airbnb_listing_id            booked_on  ... price_string  occupied\n",
              "174880             108658  2020-11-17 00:00:00  ...        300.0         1\n",
              "174895             108658                blank  ...        500.0         0\n",
              "174896             108658                blank  ...        500.0         0\n",
              "174897             108658                blank  ...        500.0         0\n",
              "174898             108658                blank  ...        500.0         0\n",
              "\n",
              "[5 rows x 5 columns]"
            ]
          },
          "metadata": {
            "tags": []
          },
          "execution_count": 12
        }
      ]
    },
    {
      "cell_type": "markdown",
      "metadata": {
        "id": "fSD8sSqZZaCM"
      },
      "source": [
        "### 2.1 Seleciona somente os IDs alugados"
      ]
    },
    {
      "cell_type": "code",
      "metadata": {
        "colab": {
          "base_uri": "https://localhost:8080/",
          "height": 359
        },
        "id": "8II67MusLxjH",
        "outputId": "30269472-82b4-4dc8-f4f6-434adafb80a2"
      },
      "source": [
        "teste = priceav_df.get(priceav_df['occupied']==1)\n",
        "teste.head(10)"
      ],
      "execution_count": 13,
      "outputs": [
        {
          "output_type": "execute_result",
          "data": {
            "text/html": [
              "<div>\n",
              "<style scoped>\n",
              "    .dataframe tbody tr th:only-of-type {\n",
              "        vertical-align: middle;\n",
              "    }\n",
              "\n",
              "    .dataframe tbody tr th {\n",
              "        vertical-align: top;\n",
              "    }\n",
              "\n",
              "    .dataframe thead th {\n",
              "        text-align: right;\n",
              "    }\n",
              "</style>\n",
              "<table border=\"1\" class=\"dataframe\">\n",
              "  <thead>\n",
              "    <tr style=\"text-align: right;\">\n",
              "      <th></th>\n",
              "      <th>airbnb_listing_id</th>\n",
              "      <th>booked_on</th>\n",
              "      <th>date</th>\n",
              "      <th>price_string</th>\n",
              "      <th>occupied</th>\n",
              "    </tr>\n",
              "  </thead>\n",
              "  <tbody>\n",
              "    <tr>\n",
              "      <th>174880</th>\n",
              "      <td>108658</td>\n",
              "      <td>2020-11-17 00:00:00</td>\n",
              "      <td>2020-12-11</td>\n",
              "      <td>300.0</td>\n",
              "      <td>1</td>\n",
              "    </tr>\n",
              "    <tr>\n",
              "      <th>174903</th>\n",
              "      <td>108658</td>\n",
              "      <td>2020-12-30 00:00:00</td>\n",
              "      <td>2021-01-03</td>\n",
              "      <td>500.0</td>\n",
              "      <td>1</td>\n",
              "    </tr>\n",
              "    <tr>\n",
              "      <th>174905</th>\n",
              "      <td>108658</td>\n",
              "      <td>2021-01-05 00:00:00</td>\n",
              "      <td>2021-01-05</td>\n",
              "      <td>500.0</td>\n",
              "      <td>1</td>\n",
              "    </tr>\n",
              "    <tr>\n",
              "      <th>174908</th>\n",
              "      <td>108658</td>\n",
              "      <td>2021-01-08 00:00:00</td>\n",
              "      <td>2021-01-08</td>\n",
              "      <td>500.0</td>\n",
              "      <td>1</td>\n",
              "    </tr>\n",
              "    <tr>\n",
              "      <th>174911</th>\n",
              "      <td>108658</td>\n",
              "      <td>2021-01-11 00:00:00</td>\n",
              "      <td>2021-01-11</td>\n",
              "      <td>400.0</td>\n",
              "      <td>1</td>\n",
              "    </tr>\n",
              "    <tr>\n",
              "      <th>174915</th>\n",
              "      <td>108658</td>\n",
              "      <td>2021-01-15 00:00:00</td>\n",
              "      <td>2021-01-15</td>\n",
              "      <td>400.0</td>\n",
              "      <td>1</td>\n",
              "    </tr>\n",
              "    <tr>\n",
              "      <th>174918</th>\n",
              "      <td>108658</td>\n",
              "      <td>2021-01-18 00:00:00</td>\n",
              "      <td>2021-01-18</td>\n",
              "      <td>400.0</td>\n",
              "      <td>1</td>\n",
              "    </tr>\n",
              "    <tr>\n",
              "      <th>174920</th>\n",
              "      <td>108658</td>\n",
              "      <td>2021-01-20 00:00:00</td>\n",
              "      <td>2021-01-20</td>\n",
              "      <td>400.0</td>\n",
              "      <td>1</td>\n",
              "    </tr>\n",
              "    <tr>\n",
              "      <th>174921</th>\n",
              "      <td>108658</td>\n",
              "      <td>2021-01-21 00:00:00</td>\n",
              "      <td>2021-01-21</td>\n",
              "      <td>400.0</td>\n",
              "      <td>1</td>\n",
              "    </tr>\n",
              "    <tr>\n",
              "      <th>174860</th>\n",
              "      <td>108658</td>\n",
              "      <td>2020-11-21 00:00:00</td>\n",
              "      <td>2020-11-21</td>\n",
              "      <td>300.0</td>\n",
              "      <td>1</td>\n",
              "    </tr>\n",
              "  </tbody>\n",
              "</table>\n",
              "</div>"
            ],
            "text/plain": [
              "        airbnb_listing_id            booked_on  ... price_string  occupied\n",
              "174880             108658  2020-11-17 00:00:00  ...        300.0         1\n",
              "174903             108658  2020-12-30 00:00:00  ...        500.0         1\n",
              "174905             108658  2021-01-05 00:00:00  ...        500.0         1\n",
              "174908             108658  2021-01-08 00:00:00  ...        500.0         1\n",
              "174911             108658  2021-01-11 00:00:00  ...        400.0         1\n",
              "174915             108658  2021-01-15 00:00:00  ...        400.0         1\n",
              "174918             108658  2021-01-18 00:00:00  ...        400.0         1\n",
              "174920             108658  2021-01-20 00:00:00  ...        400.0         1\n",
              "174921             108658  2021-01-21 00:00:00  ...        400.0         1\n",
              "174860             108658  2020-11-21 00:00:00  ...        300.0         1\n",
              "\n",
              "[10 rows x 5 columns]"
            ]
          },
          "metadata": {
            "tags": []
          },
          "execution_count": 13
        }
      ]
    },
    {
      "cell_type": "markdown",
      "metadata": {
        "id": "Bh8qR73pojm-"
      },
      "source": [
        "### 2.2 Calcula o faturamento médio dos anúncios"
      ]
    },
    {
      "cell_type": "code",
      "metadata": {
        "colab": {
          "base_uri": "https://localhost:8080/",
          "height": 419
        },
        "id": "ic_ABSJnWElt",
        "outputId": "62129e6f-5270-4122-8b61-3b4c329a350a"
      },
      "source": [
        "price = teste.groupby('airbnb_listing_id', as_index=False).price_string.median()\n",
        "price"
      ],
      "execution_count": 14,
      "outputs": [
        {
          "output_type": "execute_result",
          "data": {
            "text/html": [
              "<div>\n",
              "<style scoped>\n",
              "    .dataframe tbody tr th:only-of-type {\n",
              "        vertical-align: middle;\n",
              "    }\n",
              "\n",
              "    .dataframe tbody tr th {\n",
              "        vertical-align: top;\n",
              "    }\n",
              "\n",
              "    .dataframe thead th {\n",
              "        text-align: right;\n",
              "    }\n",
              "</style>\n",
              "<table border=\"1\" class=\"dataframe\">\n",
              "  <thead>\n",
              "    <tr style=\"text-align: right;\">\n",
              "      <th></th>\n",
              "      <th>airbnb_listing_id</th>\n",
              "      <th>price_string</th>\n",
              "    </tr>\n",
              "  </thead>\n",
              "  <tbody>\n",
              "    <tr>\n",
              "      <th>0</th>\n",
              "      <td>108658</td>\n",
              "      <td>350.0</td>\n",
              "    </tr>\n",
              "    <tr>\n",
              "      <th>1</th>\n",
              "      <td>128631</td>\n",
              "      <td>600.0</td>\n",
              "    </tr>\n",
              "    <tr>\n",
              "      <th>2</th>\n",
              "      <td>279586</td>\n",
              "      <td>250.0</td>\n",
              "    </tr>\n",
              "    <tr>\n",
              "      <th>3</th>\n",
              "      <td>317970</td>\n",
              "      <td>704.0</td>\n",
              "    </tr>\n",
              "    <tr>\n",
              "      <th>4</th>\n",
              "      <td>333619</td>\n",
              "      <td>145.0</td>\n",
              "    </tr>\n",
              "    <tr>\n",
              "      <th>...</th>\n",
              "      <td>...</td>\n",
              "      <td>...</td>\n",
              "    </tr>\n",
              "    <tr>\n",
              "      <th>3182</th>\n",
              "      <td>45552847</td>\n",
              "      <td>60.0</td>\n",
              "    </tr>\n",
              "    <tr>\n",
              "      <th>3183</th>\n",
              "      <td>45561358</td>\n",
              "      <td>300.0</td>\n",
              "    </tr>\n",
              "    <tr>\n",
              "      <th>3184</th>\n",
              "      <td>45563187</td>\n",
              "      <td>359.0</td>\n",
              "    </tr>\n",
              "    <tr>\n",
              "      <th>3185</th>\n",
              "      <td>45567371</td>\n",
              "      <td>200.0</td>\n",
              "    </tr>\n",
              "    <tr>\n",
              "      <th>3186</th>\n",
              "      <td>45575044</td>\n",
              "      <td>250.0</td>\n",
              "    </tr>\n",
              "  </tbody>\n",
              "</table>\n",
              "<p>3187 rows × 2 columns</p>\n",
              "</div>"
            ],
            "text/plain": [
              "      airbnb_listing_id  price_string\n",
              "0                108658         350.0\n",
              "1                128631         600.0\n",
              "2                279586         250.0\n",
              "3                317970         704.0\n",
              "4                333619         145.0\n",
              "...                 ...           ...\n",
              "3182           45552847          60.0\n",
              "3183           45561358         300.0\n",
              "3184           45563187         359.0\n",
              "3185           45567371         200.0\n",
              "3186           45575044         250.0\n",
              "\n",
              "[3187 rows x 2 columns]"
            ]
          },
          "metadata": {
            "tags": []
          },
          "execution_count": 14
        }
      ]
    },
    {
      "cell_type": "markdown",
      "metadata": {
        "id": "ttKZ_WwgodMB"
      },
      "source": [
        "### 2.3 Merge the datasets\n",
        "\n"
      ]
    },
    {
      "cell_type": "code",
      "metadata": {
        "colab": {
          "base_uri": "https://localhost:8080/",
          "height": 419
        },
        "id": "af-tHGWjbOE_",
        "outputId": "00c26506-f535-4b3b-8aae-4f516c746fb8"
      },
      "source": [
        "df = pd.merge(details_df, price, how='left')\n",
        "df.sort_values(['price_string'], inplace=True)\n",
        "df"
      ],
      "execution_count": 15,
      "outputs": [
        {
          "output_type": "execute_result",
          "data": {
            "text/html": [
              "<div>\n",
              "<style scoped>\n",
              "    .dataframe tbody tr th:only-of-type {\n",
              "        vertical-align: middle;\n",
              "    }\n",
              "\n",
              "    .dataframe tbody tr th {\n",
              "        vertical-align: top;\n",
              "    }\n",
              "\n",
              "    .dataframe thead th {\n",
              "        text-align: right;\n",
              "    }\n",
              "</style>\n",
              "<table border=\"1\" class=\"dataframe\">\n",
              "  <thead>\n",
              "    <tr style=\"text-align: right;\">\n",
              "      <th></th>\n",
              "      <th>airbnb_listing_id</th>\n",
              "      <th>suburb</th>\n",
              "      <th>number_of_bedrooms</th>\n",
              "      <th>number_of_bathrooms</th>\n",
              "      <th>star_rating</th>\n",
              "      <th>is_superhost</th>\n",
              "      <th>number_of_reviews</th>\n",
              "      <th>price_string</th>\n",
              "    </tr>\n",
              "  </thead>\n",
              "  <tbody>\n",
              "    <tr>\n",
              "      <th>3707</th>\n",
              "      <td>42298268</td>\n",
              "      <td>Ingleses</td>\n",
              "      <td>1.0</td>\n",
              "      <td>1.0</td>\n",
              "      <td>NaN</td>\n",
              "      <td>False</td>\n",
              "      <td>0.0</td>\n",
              "      <td>52.0</td>\n",
              "    </tr>\n",
              "    <tr>\n",
              "      <th>1541</th>\n",
              "      <td>8453995</td>\n",
              "      <td>Ingleses</td>\n",
              "      <td>1.0</td>\n",
              "      <td>1.0</td>\n",
              "      <td>5.0</td>\n",
              "      <td>True</td>\n",
              "      <td>56.0</td>\n",
              "      <td>53.0</td>\n",
              "    </tr>\n",
              "    <tr>\n",
              "      <th>3774</th>\n",
              "      <td>44226650</td>\n",
              "      <td>Ingleses</td>\n",
              "      <td>NaN</td>\n",
              "      <td>1.0</td>\n",
              "      <td>NaN</td>\n",
              "      <td>False</td>\n",
              "      <td>0.0</td>\n",
              "      <td>59.0</td>\n",
              "    </tr>\n",
              "    <tr>\n",
              "      <th>3838</th>\n",
              "      <td>45552847</td>\n",
              "      <td>Ingleses</td>\n",
              "      <td>1.0</td>\n",
              "      <td>1.0</td>\n",
              "      <td>NaN</td>\n",
              "      <td>False</td>\n",
              "      <td>0.0</td>\n",
              "      <td>60.0</td>\n",
              "    </tr>\n",
              "    <tr>\n",
              "      <th>3720</th>\n",
              "      <td>42382598</td>\n",
              "      <td>Ingleses</td>\n",
              "      <td>2.0</td>\n",
              "      <td>1.0</td>\n",
              "      <td>NaN</td>\n",
              "      <td>False</td>\n",
              "      <td>0.0</td>\n",
              "      <td>60.0</td>\n",
              "    </tr>\n",
              "    <tr>\n",
              "      <th>...</th>\n",
              "      <td>...</td>\n",
              "      <td>...</td>\n",
              "      <td>...</td>\n",
              "      <td>...</td>\n",
              "      <td>...</td>\n",
              "      <td>...</td>\n",
              "      <td>...</td>\n",
              "      <td>...</td>\n",
              "    </tr>\n",
              "    <tr>\n",
              "      <th>4671</th>\n",
              "      <td>42263705</td>\n",
              "      <td>Lagoa da Conceição</td>\n",
              "      <td>1.0</td>\n",
              "      <td>1.0</td>\n",
              "      <td>NaN</td>\n",
              "      <td>False</td>\n",
              "      <td>0.0</td>\n",
              "      <td>NaN</td>\n",
              "    </tr>\n",
              "    <tr>\n",
              "      <th>4672</th>\n",
              "      <td>42410648</td>\n",
              "      <td>Lagoa da Conceição</td>\n",
              "      <td>1.0</td>\n",
              "      <td>1.0</td>\n",
              "      <td>NaN</td>\n",
              "      <td>False</td>\n",
              "      <td>0.0</td>\n",
              "      <td>NaN</td>\n",
              "    </tr>\n",
              "    <tr>\n",
              "      <th>4685</th>\n",
              "      <td>44376960</td>\n",
              "      <td>Lagoa da Conceição</td>\n",
              "      <td>1.0</td>\n",
              "      <td>1.0</td>\n",
              "      <td>NaN</td>\n",
              "      <td>True</td>\n",
              "      <td>0.0</td>\n",
              "      <td>NaN</td>\n",
              "    </tr>\n",
              "    <tr>\n",
              "      <th>4687</th>\n",
              "      <td>44618139</td>\n",
              "      <td>Lagoa da Conceição</td>\n",
              "      <td>1.0</td>\n",
              "      <td>1.0</td>\n",
              "      <td>NaN</td>\n",
              "      <td>False</td>\n",
              "      <td>0.0</td>\n",
              "      <td>NaN</td>\n",
              "    </tr>\n",
              "    <tr>\n",
              "      <th>4688</th>\n",
              "      <td>44648260</td>\n",
              "      <td>Lagoa da Conceição</td>\n",
              "      <td>1.0</td>\n",
              "      <td>1.0</td>\n",
              "      <td>NaN</td>\n",
              "      <td>False</td>\n",
              "      <td>0.0</td>\n",
              "      <td>NaN</td>\n",
              "    </tr>\n",
              "  </tbody>\n",
              "</table>\n",
              "<p>4691 rows × 8 columns</p>\n",
              "</div>"
            ],
            "text/plain": [
              "      airbnb_listing_id              suburb  ...  number_of_reviews  price_string\n",
              "3707           42298268            Ingleses  ...                0.0          52.0\n",
              "1541            8453995            Ingleses  ...               56.0          53.0\n",
              "3774           44226650            Ingleses  ...                0.0          59.0\n",
              "3838           45552847            Ingleses  ...                0.0          60.0\n",
              "3720           42382598            Ingleses  ...                0.0          60.0\n",
              "...                 ...                 ...  ...                ...           ...\n",
              "4671           42263705  Lagoa da Conceição  ...                0.0           NaN\n",
              "4672           42410648  Lagoa da Conceição  ...                0.0           NaN\n",
              "4685           44376960  Lagoa da Conceição  ...                0.0           NaN\n",
              "4687           44618139  Lagoa da Conceição  ...                0.0           NaN\n",
              "4688           44648260  Lagoa da Conceição  ...                0.0           NaN\n",
              "\n",
              "[4691 rows x 8 columns]"
            ]
          },
          "metadata": {
            "tags": []
          },
          "execution_count": 15
        }
      ]
    },
    {
      "cell_type": "markdown",
      "metadata": {
        "id": "vJCziahVobWr"
      },
      "source": [
        "# 3. Is there any correlation between the characteristics of an ad and its billing? That are? Explain."
      ]
    }
  ]
}