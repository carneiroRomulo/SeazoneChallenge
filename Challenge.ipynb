{
  "nbformat": 4,
  "nbformat_minor": 0,
  "metadata": {
    "colab": {
      "name": "Challenge.ipynb",
      "provenance": [],
      "collapsed_sections": []
    },
    "kernelspec": {
      "display_name": "Python 3",
      "name": "python3"
    },
    "language_info": {
      "name": "python"
    }
  },
  "cells": [
    {
      "cell_type": "markdown",
      "metadata": {
        "id": "45KskOF1BDDi"
      },
      "source": [
        "# Import Libraries"
      ]
    },
    {
      "cell_type": "code",
      "metadata": {
        "id": "E0t24kuzA8Pf"
      },
      "source": [
        "# Importando bibliotecas utilizadas\n",
        "import numpy as np\n",
        "import pandas as pd\n",
        "import matplotlib.pyplot as plt"
      ],
      "execution_count": 1,
      "outputs": []
    },
    {
      "cell_type": "markdown",
      "metadata": {
        "id": "V5K_YADfBQJ8"
      },
      "source": [
        "# Import Dataset"
      ]
    },
    {
      "cell_type": "code",
      "metadata": {
        "id": "5qB6esG5BSe1"
      },
      "source": [
        "# Importação dos datasets necessários\n",
        "raw_details_df = pd.read_csv('https://raw.githubusercontent.com/carneiroRomulo/SeazoneChallenge/main/datasets/details.csv')\n",
        "raw_priceav_df = pd.read_csv('https://raw.githubusercontent.com/carneiroRomulo/SeazoneChallenge/main/datasets/priceav.csv')"
      ],
      "execution_count": 2,
      "outputs": []
    },
    {
      "cell_type": "markdown",
      "metadata": {
        "id": "zRzIW2fu9xu5"
      },
      "source": [
        "# Data Cleaning\n"
      ]
    },
    {
      "cell_type": "code",
      "metadata": {
        "colab": {
          "base_uri": "https://localhost:8080/",
          "height": 204
        },
        "id": "UBb7KuF7gPKq",
        "outputId": "4f998df4-5068-4dff-e726-6d91ecc56148"
      },
      "source": [
        "# Visualiza a estrutura do dataset 'details.csv'\n",
        "raw_details_df.head()"
      ],
      "execution_count": 3,
      "outputs": [
        {
          "output_type": "execute_result",
          "data": {
            "text/html": [
              "<div>\n",
              "<style scoped>\n",
              "    .dataframe tbody tr th:only-of-type {\n",
              "        vertical-align: middle;\n",
              "    }\n",
              "\n",
              "    .dataframe tbody tr th {\n",
              "        vertical-align: top;\n",
              "    }\n",
              "\n",
              "    .dataframe thead th {\n",
              "        text-align: right;\n",
              "    }\n",
              "</style>\n",
              "<table border=\"1\" class=\"dataframe\">\n",
              "  <thead>\n",
              "    <tr style=\"text-align: right;\">\n",
              "      <th></th>\n",
              "      <th>Unnamed: 0</th>\n",
              "      <th>airbnb_listing_id</th>\n",
              "      <th>suburb</th>\n",
              "      <th>ad_name</th>\n",
              "      <th>number_of_bedrooms</th>\n",
              "      <th>number_of_bathrooms</th>\n",
              "      <th>star_rating</th>\n",
              "      <th>is_superhost</th>\n",
              "      <th>number_of_reviews</th>\n",
              "    </tr>\n",
              "  </thead>\n",
              "  <tbody>\n",
              "    <tr>\n",
              "      <th>0</th>\n",
              "      <td>0</td>\n",
              "      <td>31389869</td>\n",
              "      <td>Jurerê</td>\n",
              "      <td>Lindo Apartamento em Jurerê</td>\n",
              "      <td>2.0</td>\n",
              "      <td>2.0</td>\n",
              "      <td>5.0</td>\n",
              "      <td>False</td>\n",
              "      <td>15.0</td>\n",
              "    </tr>\n",
              "    <tr>\n",
              "      <th>1</th>\n",
              "      <td>1</td>\n",
              "      <td>40010667</td>\n",
              "      <td>Canasvieiras</td>\n",
              "      <td>Residencial Arruda, 1 quarto</td>\n",
              "      <td>1.0</td>\n",
              "      <td>1.0</td>\n",
              "      <td>NaN</td>\n",
              "      <td>False</td>\n",
              "      <td>0.0</td>\n",
              "    </tr>\n",
              "    <tr>\n",
              "      <th>2</th>\n",
              "      <td>2</td>\n",
              "      <td>38905997</td>\n",
              "      <td>Ingleses</td>\n",
              "      <td>Apartamento NOVO Completo - Moderno e Sofisticado</td>\n",
              "      <td>1.0</td>\n",
              "      <td>1.0</td>\n",
              "      <td>4.5</td>\n",
              "      <td>True</td>\n",
              "      <td>13.0</td>\n",
              "    </tr>\n",
              "    <tr>\n",
              "      <th>3</th>\n",
              "      <td>3</td>\n",
              "      <td>22343656</td>\n",
              "      <td>Ingleses</td>\n",
              "      <td>06- Apartamento 02 habitaciones</td>\n",
              "      <td>2.0</td>\n",
              "      <td>1.0</td>\n",
              "      <td>5.0</td>\n",
              "      <td>True</td>\n",
              "      <td>28.0</td>\n",
              "    </tr>\n",
              "    <tr>\n",
              "      <th>4</th>\n",
              "      <td>4</td>\n",
              "      <td>18328184</td>\n",
              "      <td>Canasvieiras</td>\n",
              "      <td>Apto 2 quartos em Canasvieiras, Florianopolis!</td>\n",
              "      <td>2.0</td>\n",
              "      <td>1.0</td>\n",
              "      <td>5.0</td>\n",
              "      <td>True</td>\n",
              "      <td>35.0</td>\n",
              "    </tr>\n",
              "  </tbody>\n",
              "</table>\n",
              "</div>"
            ],
            "text/plain": [
              "   Unnamed: 0  airbnb_listing_id  ... is_superhost number_of_reviews\n",
              "0           0           31389869  ...        False              15.0\n",
              "1           1           40010667  ...        False               0.0\n",
              "2           2           38905997  ...         True              13.0\n",
              "3           3           22343656  ...         True              28.0\n",
              "4           4           18328184  ...         True              35.0\n",
              "\n",
              "[5 rows x 9 columns]"
            ]
          },
          "metadata": {
            "tags": []
          },
          "execution_count": 3
        }
      ]
    },
    {
      "cell_type": "code",
      "metadata": {
        "id": "_Q7MVT4onNJj"
      },
      "source": [
        "# Remove features desnecessárias para análise\n",
        "raw_details_df = raw_details_df.drop(columns=['Unnamed: 0'])"
      ],
      "execution_count": 4,
      "outputs": []
    },
    {
      "cell_type": "code",
      "metadata": {
        "colab": {
          "base_uri": "https://localhost:8080/"
        },
        "id": "o8_pknk963eW",
        "outputId": "a5b987b9-5c70-4e22-f431-7ac917440246"
      },
      "source": [
        "# Checa por quantidade relevante de valores NaN no dataset 'details.csv'\n",
        "raw_details_df.isna().sum()"
      ],
      "execution_count": 5,
      "outputs": [
        {
          "output_type": "execute_result",
          "data": {
            "text/plain": [
              "airbnb_listing_id         0\n",
              "suburb                    0\n",
              "ad_name                   0\n",
              "number_of_bedrooms      183\n",
              "number_of_bathrooms       1\n",
              "star_rating            2121\n",
              "is_superhost              0\n",
              "number_of_reviews         7\n",
              "dtype: int64"
            ]
          },
          "metadata": {
            "tags": []
          },
          "execution_count": 5
        }
      ]
    },
    {
      "cell_type": "code",
      "metadata": {
        "colab": {
          "base_uri": "https://localhost:8080/"
        },
        "id": "ImpS03w4TXBK",
        "outputId": "5c9cda27-8fad-44f8-a7bf-8e0a95d7da32"
      },
      "source": [
        "raw_details_df.shape"
      ],
      "execution_count": 6,
      "outputs": [
        {
          "output_type": "execute_result",
          "data": {
            "text/plain": [
              "(4691, 8)"
            ]
          },
          "metadata": {
            "tags": []
          },
          "execution_count": 6
        }
      ]
    },
    {
      "cell_type": "code",
      "metadata": {
        "id": "q7r-IGtOQjcI"
      },
      "source": [
        "# Droping data que possui quantidade insignificante de missing values\n",
        "df1_details = raw_details_df.dropna(subset=['number_of_bathrooms', 'number_of_reviews','number_of_bedrooms'])"
      ],
      "execution_count": 7,
      "outputs": []
    },
    {
      "cell_type": "code",
      "metadata": {
        "colab": {
          "base_uri": "https://localhost:8080/"
        },
        "id": "S4rihVFTeqHO",
        "outputId": "6f779ae3-274b-409a-8196-84b382ff4d31"
      },
      "source": [
        "# Checando se há anúncios com star_rating maior que zero mesmo que o number_of_reviews seja zero\n",
        "df1_details.star_rating[df1_details.number_of_reviews == 0].sort_values(ascending=False)"
      ],
      "execution_count": 8,
      "outputs": [
        {
          "output_type": "execute_result",
          "data": {
            "text/plain": [
              "4517    0.0\n",
              "2104    0.0\n",
              "2035    0.0\n",
              "1741    0.0\n",
              "1474    0.0\n",
              "       ... \n",
              "4674    NaN\n",
              "4677    NaN\n",
              "4685    NaN\n",
              "4686    NaN\n",
              "4687    NaN\n",
              "Name: star_rating, Length: 1113, dtype: float64"
            ]
          },
          "metadata": {
            "tags": []
          },
          "execution_count": 8
        }
      ]
    },
    {
      "cell_type": "code",
      "metadata": {
        "colab": {
          "base_uri": "https://localhost:8080/"
        },
        "id": "Y1v4XYyseOx0",
        "outputId": "20960c36-b9fd-4dec-f2e5-092da80fb071"
      },
      "source": [
        "df1_details.star_rating.describe()"
      ],
      "execution_count": 9,
      "outputs": [
        {
          "output_type": "execute_result",
          "data": {
            "text/plain": [
              "count    2450.000000\n",
              "mean        4.831837\n",
              "std         0.435143\n",
              "min         0.000000\n",
              "25%         4.500000\n",
              "50%         5.000000\n",
              "75%         5.000000\n",
              "max         5.000000\n",
              "Name: star_rating, dtype: float64"
            ]
          },
          "metadata": {
            "tags": []
          },
          "execution_count": 9
        }
      ]
    },
    {
      "cell_type": "code",
      "metadata": {
        "id": "d9IBD1wOZfqP"
      },
      "source": [
        "# Completando missing values que são muito importantes para serem eliminados, preenchendo-os com a mediana entre eles\n",
        "df2_details = df1_details.fillna(df1_details['star_rating'].median())"
      ],
      "execution_count": 10,
      "outputs": []
    },
    {
      "cell_type": "code",
      "metadata": {
        "colab": {
          "base_uri": "https://localhost:8080/"
        },
        "id": "Nm7QhxjhRb16",
        "outputId": "a71cd49c-9281-47b5-93b8-6bb453f8bf43"
      },
      "source": [
        "df2_details['number_of_bedrooms'].unique()"
      ],
      "execution_count": 11,
      "outputs": [
        {
          "output_type": "execute_result",
          "data": {
            "text/plain": [
              "array([ 2.,  1.,  3.,  4.,  5.,  6., 10.])"
            ]
          },
          "metadata": {
            "tags": []
          },
          "execution_count": 11
        }
      ]
    },
    {
      "cell_type": "code",
      "metadata": {
        "colab": {
          "base_uri": "https://localhost:8080/"
        },
        "id": "TbXzmnBaU1wI",
        "outputId": "eac06c32-b5a2-417e-8661-e4bebbf20ab0"
      },
      "source": [
        "df2_details['number_of_bathrooms'].unique()"
      ],
      "execution_count": 12,
      "outputs": [
        {
          "output_type": "execute_result",
          "data": {
            "text/plain": [
              "array([2., 1., 4., 3., 5., 0., 6., 8.])"
            ]
          },
          "metadata": {
            "tags": []
          },
          "execution_count": 12
        }
      ]
    },
    {
      "cell_type": "code",
      "metadata": {
        "colab": {
          "base_uri": "https://localhost:8080/"
        },
        "id": "MN749cGbULxZ",
        "outputId": "64bbd72f-da07-4abc-86f6-bf0bfbc06523"
      },
      "source": [
        "# Checando por possíveis outliers\n",
        "df2_details[df2_details.number_of_bedrooms>3].shape"
      ],
      "execution_count": 13,
      "outputs": [
        {
          "output_type": "execute_result",
          "data": {
            "text/plain": [
              "(79, 8)"
            ]
          },
          "metadata": {
            "tags": []
          },
          "execution_count": 13
        }
      ]
    },
    {
      "cell_type": "code",
      "metadata": {
        "colab": {
          "base_uri": "https://localhost:8080/"
        },
        "id": "1_ykj-h89eHr",
        "outputId": "71805c20-b934-4859-deb2-cc61cefe637f"
      },
      "source": [
        "df2_details[df2_details.number_of_bedrooms>3].shape"
      ],
      "execution_count": 14,
      "outputs": [
        {
          "output_type": "execute_result",
          "data": {
            "text/plain": [
              "(79, 8)"
            ]
          },
          "metadata": {
            "tags": []
          },
          "execution_count": 14
        }
      ]
    },
    {
      "cell_type": "code",
      "metadata": {
        "id": "Cqm58cLZ9Nd1"
      },
      "source": [
        "# Removendo outliers\n",
        "df2_details = df2_details[(df2_details.number_of_bedrooms<4) & (df2_details.number_of_bathrooms<4)]"
      ],
      "execution_count": 15,
      "outputs": []
    },
    {
      "cell_type": "code",
      "metadata": {
        "colab": {
          "base_uri": "https://localhost:8080/",
          "height": 514
        },
        "id": "AMk7yI4EgTLM",
        "outputId": "89e6291d-92b8-41f1-ceee-58bc000eed47"
      },
      "source": [
        "# Visualiza a estrutura do dataset 'priceav.csv'\n",
        "raw_priceav_df.head(15)"
      ],
      "execution_count": 16,
      "outputs": [
        {
          "output_type": "execute_result",
          "data": {
            "text/html": [
              "<div>\n",
              "<style scoped>\n",
              "    .dataframe tbody tr th:only-of-type {\n",
              "        vertical-align: middle;\n",
              "    }\n",
              "\n",
              "    .dataframe tbody tr th {\n",
              "        vertical-align: top;\n",
              "    }\n",
              "\n",
              "    .dataframe thead th {\n",
              "        text-align: right;\n",
              "    }\n",
              "</style>\n",
              "<table border=\"1\" class=\"dataframe\">\n",
              "  <thead>\n",
              "    <tr style=\"text-align: right;\">\n",
              "      <th></th>\n",
              "      <th>Unnamed: 0</th>\n",
              "      <th>Unnamed: 0.1</th>\n",
              "      <th>airbnb_listing_id</th>\n",
              "      <th>booked_on</th>\n",
              "      <th>date</th>\n",
              "      <th>price_string</th>\n",
              "      <th>occupied</th>\n",
              "    </tr>\n",
              "  </thead>\n",
              "  <tbody>\n",
              "    <tr>\n",
              "      <th>0</th>\n",
              "      <td>0</td>\n",
              "      <td>2148</td>\n",
              "      <td>40201349</td>\n",
              "      <td>blank</td>\n",
              "      <td>2020-11-15</td>\n",
              "      <td>250.0</td>\n",
              "      <td>0</td>\n",
              "    </tr>\n",
              "    <tr>\n",
              "      <th>1</th>\n",
              "      <td>1</td>\n",
              "      <td>2159</td>\n",
              "      <td>40201349</td>\n",
              "      <td>blank</td>\n",
              "      <td>2020-11-26</td>\n",
              "      <td>250.0</td>\n",
              "      <td>0</td>\n",
              "    </tr>\n",
              "    <tr>\n",
              "      <th>2</th>\n",
              "      <td>2</td>\n",
              "      <td>2160</td>\n",
              "      <td>40201349</td>\n",
              "      <td>blank</td>\n",
              "      <td>2020-11-27</td>\n",
              "      <td>250.0</td>\n",
              "      <td>0</td>\n",
              "    </tr>\n",
              "    <tr>\n",
              "      <th>3</th>\n",
              "      <td>3</td>\n",
              "      <td>2173</td>\n",
              "      <td>40201349</td>\n",
              "      <td>blank</td>\n",
              "      <td>2020-12-10</td>\n",
              "      <td>250.0</td>\n",
              "      <td>0</td>\n",
              "    </tr>\n",
              "    <tr>\n",
              "      <th>4</th>\n",
              "      <td>4</td>\n",
              "      <td>2226</td>\n",
              "      <td>40201349</td>\n",
              "      <td>blank</td>\n",
              "      <td>2021-02-01</td>\n",
              "      <td>250.0</td>\n",
              "      <td>0</td>\n",
              "    </tr>\n",
              "    <tr>\n",
              "      <th>5</th>\n",
              "      <td>5</td>\n",
              "      <td>2230</td>\n",
              "      <td>40201349</td>\n",
              "      <td>blank</td>\n",
              "      <td>2021-02-05</td>\n",
              "      <td>250.0</td>\n",
              "      <td>0</td>\n",
              "    </tr>\n",
              "    <tr>\n",
              "      <th>6</th>\n",
              "      <td>6</td>\n",
              "      <td>2236</td>\n",
              "      <td>40201349</td>\n",
              "      <td>blank</td>\n",
              "      <td>2021-02-11</td>\n",
              "      <td>250.0</td>\n",
              "      <td>0</td>\n",
              "    </tr>\n",
              "    <tr>\n",
              "      <th>7</th>\n",
              "      <td>7</td>\n",
              "      <td>2245</td>\n",
              "      <td>40201349</td>\n",
              "      <td>blank</td>\n",
              "      <td>2021-02-17</td>\n",
              "      <td>250.0</td>\n",
              "      <td>0</td>\n",
              "    </tr>\n",
              "    <tr>\n",
              "      <th>8</th>\n",
              "      <td>8</td>\n",
              "      <td>2246</td>\n",
              "      <td>40201349</td>\n",
              "      <td>blank</td>\n",
              "      <td>2021-02-18</td>\n",
              "      <td>250.0</td>\n",
              "      <td>0</td>\n",
              "    </tr>\n",
              "    <tr>\n",
              "      <th>9</th>\n",
              "      <td>9</td>\n",
              "      <td>2256</td>\n",
              "      <td>40201349</td>\n",
              "      <td>blank</td>\n",
              "      <td>2021-02-28</td>\n",
              "      <td>250.0</td>\n",
              "      <td>0</td>\n",
              "    </tr>\n",
              "    <tr>\n",
              "      <th>10</th>\n",
              "      <td>10</td>\n",
              "      <td>2257</td>\n",
              "      <td>40201349</td>\n",
              "      <td>blank</td>\n",
              "      <td>2021-03-01</td>\n",
              "      <td>250.0</td>\n",
              "      <td>0</td>\n",
              "    </tr>\n",
              "    <tr>\n",
              "      <th>11</th>\n",
              "      <td>11</td>\n",
              "      <td>2262</td>\n",
              "      <td>40201349</td>\n",
              "      <td>blank</td>\n",
              "      <td>2021-03-06</td>\n",
              "      <td>250.0</td>\n",
              "      <td>0</td>\n",
              "    </tr>\n",
              "    <tr>\n",
              "      <th>12</th>\n",
              "      <td>12</td>\n",
              "      <td>6452</td>\n",
              "      <td>40206270</td>\n",
              "      <td>2021-01-01 00:00:00</td>\n",
              "      <td>2021-01-01</td>\n",
              "      <td>380.0</td>\n",
              "      <td>1</td>\n",
              "    </tr>\n",
              "    <tr>\n",
              "      <th>13</th>\n",
              "      <td>13</td>\n",
              "      <td>6453</td>\n",
              "      <td>40206270</td>\n",
              "      <td>2021-01-01 00:00:00</td>\n",
              "      <td>2021-01-02</td>\n",
              "      <td>380.0</td>\n",
              "      <td>1</td>\n",
              "    </tr>\n",
              "    <tr>\n",
              "      <th>14</th>\n",
              "      <td>14</td>\n",
              "      <td>6454</td>\n",
              "      <td>40206270</td>\n",
              "      <td>blank</td>\n",
              "      <td>2021-01-03</td>\n",
              "      <td>350.0</td>\n",
              "      <td>0</td>\n",
              "    </tr>\n",
              "  </tbody>\n",
              "</table>\n",
              "</div>"
            ],
            "text/plain": [
              "    Unnamed: 0  Unnamed: 0.1  ...  price_string occupied\n",
              "0            0          2148  ...         250.0        0\n",
              "1            1          2159  ...         250.0        0\n",
              "2            2          2160  ...         250.0        0\n",
              "3            3          2173  ...         250.0        0\n",
              "4            4          2226  ...         250.0        0\n",
              "5            5          2230  ...         250.0        0\n",
              "6            6          2236  ...         250.0        0\n",
              "7            7          2245  ...         250.0        0\n",
              "8            8          2246  ...         250.0        0\n",
              "9            9          2256  ...         250.0        0\n",
              "10          10          2257  ...         250.0        0\n",
              "11          11          2262  ...         250.0        0\n",
              "12          12          6452  ...         380.0        1\n",
              "13          13          6453  ...         380.0        1\n",
              "14          14          6454  ...         350.0        0\n",
              "\n",
              "[15 rows x 7 columns]"
            ]
          },
          "metadata": {
            "tags": []
          },
          "execution_count": 16
        }
      ]
    },
    {
      "cell_type": "code",
      "metadata": {
        "id": "vFdzlm1_FNG_"
      },
      "source": [
        "# Remove features desnecessárias para análise\n",
        "raw_priceav_df = raw_priceav_df.drop(columns=['Unnamed: 0', 'Unnamed: 0.1'])"
      ],
      "execution_count": 17,
      "outputs": []
    },
    {
      "cell_type": "code",
      "metadata": {
        "colab": {
          "base_uri": "https://localhost:8080/"
        },
        "id": "GptiLaNghANx",
        "outputId": "5eef5f8c-07ee-4b3f-f48c-6462b5882827"
      },
      "source": [
        "raw_priceav_df.dtypes"
      ],
      "execution_count": 18,
      "outputs": [
        {
          "output_type": "execute_result",
          "data": {
            "text/plain": [
              "airbnb_listing_id      int64\n",
              "booked_on             object\n",
              "date                  object\n",
              "price_string         float64\n",
              "occupied               int64\n",
              "dtype: object"
            ]
          },
          "metadata": {
            "tags": []
          },
          "execution_count": 18
        }
      ]
    },
    {
      "cell_type": "code",
      "metadata": {
        "colab": {
          "base_uri": "https://localhost:8080/"
        },
        "id": "Lu0sDvRom1WS",
        "outputId": "45a4ff90-7f41-4617-c97f-6064aff15ad4"
      },
      "source": [
        "# Checa por relevante quantidade de valores NaN no dataset 'priceav.csv'\n",
        "raw_priceav_df.isna().sum()"
      ],
      "execution_count": 19,
      "outputs": [
        {
          "output_type": "execute_result",
          "data": {
            "text/plain": [
              "airbnb_listing_id    0\n",
              "booked_on            0\n",
              "date                 0\n",
              "price_string         0\n",
              "occupied             0\n",
              "dtype: int64"
            ]
          },
          "metadata": {
            "tags": []
          },
          "execution_count": 19
        }
      ]
    },
    {
      "cell_type": "code",
      "metadata": {
        "colab": {
          "base_uri": "https://localhost:8080/"
        },
        "id": "hdyaAkfShlUF",
        "outputId": "df6597f0-5197-4b33-821c-90966122acda"
      },
      "source": [
        "# Ignorando o valor do tempo presente em 'booked_on'\n",
        "df1_price = raw_priceav_df\n",
        "df1_price['booked_on'] = df1_price['booked_on'].apply(lambda x: x.split(' ')[0])\n",
        "df1_price['booked_on'].unique()"
      ],
      "execution_count": 21,
      "outputs": [
        {
          "output_type": "execute_result",
          "data": {
            "text/plain": [
              "array(['blank', '2021-01-01', '2021-02-10', '2021-03-15', '2020-04-01',\n",
              "       '2020-10-16', '2020-09-03', '2020-11-10', '2020-12-31',\n",
              "       '2021-01-20', '2020-09-16', '2021-03-17', '2021-01-07',\n",
              "       '2021-01-09', '2021-01-10', '2021-01-11', '2021-01-12',\n",
              "       '2021-01-13', '2021-01-16', '2021-01-17', '2021-01-19',\n",
              "       '2021-01-21', '2021-01-22', '2021-01-23', '2021-01-24',\n",
              "       '2021-01-27', '2021-01-30', '2021-02-01', '2021-02-03',\n",
              "       '2021-02-04', '2021-02-05', '2021-02-06', '2021-02-07',\n",
              "       '2021-02-09', '2021-02-12', '2021-02-14', '2021-02-15',\n",
              "       '2021-02-17', '2021-02-19', '2021-02-21', '2021-02-22',\n",
              "       '2021-02-23', '2021-02-25', '2021-02-27', '2021-02-28',\n",
              "       '2021-03-01', '2021-03-05', '2021-03-06', '2021-03-09',\n",
              "       '2021-03-12', '2021-03-13', '2021-03-14', '2021-03-18',\n",
              "       '2021-03-19', '2021-03-20', '2021-03-22', '2021-03-26',\n",
              "       '2021-03-27', '2021-03-28', '2020-10-23', '2020-03-29',\n",
              "       '2020-12-27', '2020-12-15', '2020-12-30', '2020-03-31',\n",
              "       '2020-03-18', '2020-03-15', '2020-11-02', '2020-11-03',\n",
              "       '2020-11-04', '2020-11-05', '2020-11-09', '2020-11-14',\n",
              "       '2020-11-16', '2020-11-17', '2020-11-18', '2020-11-19',\n",
              "       '2020-11-23', '2020-11-24', '2020-11-30', '2020-12-01',\n",
              "       '2020-12-03', '2020-12-04', '2020-12-05', '2020-12-06',\n",
              "       '2020-12-07', '2020-12-08', '2020-12-09', '2020-12-12',\n",
              "       '2020-12-16', '2020-12-17', '2020-12-18', '2020-12-19',\n",
              "       '2020-12-20', '2020-12-21', '2020-12-23', '2020-12-24',\n",
              "       '2020-12-25', '2020-12-26', '2021-01-04', '2021-01-05',\n",
              "       '2021-01-06', '2021-01-08', '2021-01-14', '2021-01-15',\n",
              "       '2021-01-18', '2021-01-26', '2021-01-28', '2021-02-16',\n",
              "       '2021-02-20', '2021-02-24', '2021-03-02', '2021-03-04',\n",
              "       '2021-03-07', '2021-03-10', '2021-03-11', '2021-03-16',\n",
              "       '2021-03-29', '2021-03-30', '2020-10-21', '2020-11-25',\n",
              "       '2021-01-29', '2021-01-31', '2021-02-02', '2021-02-13',\n",
              "       '2021-02-26', '2021-03-03', '2021-03-21', '2020-12-28',\n",
              "       '2020-11-01', '2020-11-22', '2021-02-08', '2020-12-13',\n",
              "       '2020-12-29', '2021-01-03', '2021-03-08', '2020-11-12',\n",
              "       '2020-11-13', '2020-11-15', '2020-12-10', '2021-01-25',\n",
              "       '2021-02-18', '2020-11-06', '2020-11-11', '2020-11-20',\n",
              "       '2020-11-26', '2020-12-02', '2020-10-28', '2020-12-11',\n",
              "       '2020-12-14', '2020-12-22', '2021-01-02', '2021-02-11',\n",
              "       '2020-04-03', '2020-11-29', '2020-09-23', '2020-10-18',\n",
              "       '2020-09-18', '2020-10-29', '2020-11-21', '2020-10-26',\n",
              "       '2020-10-25', '2020-09-17', '2020-03-30', '2020-10-19',\n",
              "       '2020-03-26', '2020-02-15', '2021-03-25', '2020-10-24',\n",
              "       '2020-10-27', '2020-10-30', '2020-10-31', '2020-09-09',\n",
              "       '2020-10-04', '2020-10-17', '2020-03-25', '2020-09-24',\n",
              "       '2020-10-05', '2020-09-11', '2020-03-21', '2020-09-14',\n",
              "       '2020-09-07', '2020-10-20', '2020-09-15', '2020-09-13',\n",
              "       '2020-10-06', '2020-09-08', '2020-03-20', '2020-06-04',\n",
              "       '2020-09-04', '2020-03-13', '2020-11-27', '2020-09-22',\n",
              "       '2020-10-22', '2020-09-19', '2020-09-25', '2020-10-02',\n",
              "       '2020-01-02', '2020-10-01', '2020-09-10', '2020-03-19',\n",
              "       '2020-09-21', '2020-03-24', '2020-09-29', '2020-11-28',\n",
              "       '2021-03-24', '2020-09-06', '2020-06-09', '2020-03-02',\n",
              "       '2020-04-08', '2020-09-27', '2000-01-01', '2020-02-16',\n",
              "       '2020-04-04', '2020-05-11', '2020-08-28', '2020-03-14',\n",
              "       '2020-08-30', '2020-04-02', '2020-09-30', '2020-05-06',\n",
              "       '2020-03-01', '2020-01-15', '2020-10-03', '2020-08-21',\n",
              "       '2020-02-07', '2020-04-10', '2020-03-17', '2020-05-13',\n",
              "       '2020-07-24', '2020-08-20', '2020-05-01', '2020-06-24',\n",
              "       '2020-09-02'], dtype=object)"
            ]
          },
          "metadata": {
            "tags": []
          },
          "execution_count": 21
        }
      ]
    },
    {
      "cell_type": "markdown",
      "metadata": {
        "id": "YgEBKfLQ97ox"
      },
      "source": [
        "# 1. Ordene os bairros em ordem crescente de número de listings."
      ]
    },
    {
      "cell_type": "code",
      "metadata": {
        "id": "g0M4U9nk_r2D"
      },
      "source": [
        "# Remove features desnecessárias para análise\n",
        "df3_details = df2_details.drop(columns=['ad_name'])"
      ],
      "execution_count": 23,
      "outputs": []
    },
    {
      "cell_type": "code",
      "metadata": {
        "colab": {
          "base_uri": "https://localhost:8080/",
          "height": 204
        },
        "id": "JF7cbpq-jnwM",
        "outputId": "73463ded-3b3e-48fe-9ac7-d9af06ba1b76"
      },
      "source": [
        "# Ordena os dataset em ordem ascendente de acordo com o número de listings em cada suburb\n",
        "df3_details = df3_details.groupby('suburb', as_index=False).airbnb_listing_id.count()\n",
        "df3_details.sort_values(['airbnb_listing_id'], inplace=True)\n",
        "df3_details"
      ],
      "execution_count": 24,
      "outputs": [
        {
          "output_type": "execute_result",
          "data": {
            "text/html": [
              "<div>\n",
              "<style scoped>\n",
              "    .dataframe tbody tr th:only-of-type {\n",
              "        vertical-align: middle;\n",
              "    }\n",
              "\n",
              "    .dataframe tbody tr th {\n",
              "        vertical-align: top;\n",
              "    }\n",
              "\n",
              "    .dataframe thead th {\n",
              "        text-align: right;\n",
              "    }\n",
              "</style>\n",
              "<table border=\"1\" class=\"dataframe\">\n",
              "  <thead>\n",
              "    <tr style=\"text-align: right;\">\n",
              "      <th></th>\n",
              "      <th>suburb</th>\n",
              "      <th>airbnb_listing_id</th>\n",
              "    </tr>\n",
              "  </thead>\n",
              "  <tbody>\n",
              "    <tr>\n",
              "      <th>1</th>\n",
              "      <td>Centro</td>\n",
              "      <td>238</td>\n",
              "    </tr>\n",
              "    <tr>\n",
              "      <th>4</th>\n",
              "      <td>Lagoa da Conceição</td>\n",
              "      <td>258</td>\n",
              "    </tr>\n",
              "    <tr>\n",
              "      <th>3</th>\n",
              "      <td>Jurerê</td>\n",
              "      <td>498</td>\n",
              "    </tr>\n",
              "    <tr>\n",
              "      <th>0</th>\n",
              "      <td>Canasvieiras</td>\n",
              "      <td>1125</td>\n",
              "    </tr>\n",
              "    <tr>\n",
              "      <th>2</th>\n",
              "      <td>Ingleses</td>\n",
              "      <td>2281</td>\n",
              "    </tr>\n",
              "  </tbody>\n",
              "</table>\n",
              "</div>"
            ],
            "text/plain": [
              "               suburb  airbnb_listing_id\n",
              "1              Centro                238\n",
              "4  Lagoa da Conceição                258\n",
              "3              Jurerê                498\n",
              "0        Canasvieiras               1125\n",
              "2            Ingleses               2281"
            ]
          },
          "metadata": {
            "tags": []
          },
          "execution_count": 24
        }
      ]
    },
    {
      "cell_type": "code",
      "metadata": {
        "colab": {
          "base_uri": "https://localhost:8080/",
          "height": 345
        },
        "id": "iQXh41NQlbKG",
        "outputId": "7c7145fb-c941-4636-e07e-3fe6bbe7b955"
      },
      "source": [
        "# Plotando gráfico para melhor visualização\n",
        "plt.bar(df3_details.suburb, df3_details.airbnb_listing_id)\n",
        "plt.xlabel('Suburb')\n",
        "plt.xticks(rotation=30)\n",
        "plt.ylabel('Number of Listings')"
      ],
      "execution_count": 25,
      "outputs": [
        {
          "output_type": "execute_result",
          "data": {
            "text/plain": [
              "Text(0, 0.5, 'Number of Listings')"
            ]
          },
          "metadata": {
            "tags": []
          },
          "execution_count": 25
        },
        {
          "output_type": "display_data",
          "data": {
            "image/png": "[encoded data removed]",
            "text/plain": [
              "<Figure size 432x288 with 1 Axes>"
            ]
          },
          "metadata": {
            "tags": [],
            "needs_background": "light"
          }
        }
      ]
    },
    {
      "cell_type": "markdown",
      "metadata": {
        "id": "LVuyqYtZBfWS"
      },
      "source": [
        "# 2. Ordene os bairros em ordem crescente de faturamento médio dos listings."
      ]
    },
    {
      "cell_type": "code",
      "metadata": {
        "id": "8II67MusLxjH"
      },
      "source": [
        "# Seleciona apenas os IDs ocupados\n",
        "df2_price = df1_price.get(df1_price['occupied']==1)"
      ],
      "execution_count": 26,
      "outputs": []
    },
    {
      "cell_type": "code",
      "metadata": {
        "id": "af-tHGWjbOE_"
      },
      "source": [
        "# Combina os datasets\n",
        "df_merged = pd.merge(df2_details, df2_price, how='inner')\n",
        "df_merged.rename(columns={'price_string':'billing'}, inplace=True)"
      ],
      "execution_count": 27,
      "outputs": []
    },
    {
      "cell_type": "code",
      "metadata": {
        "id": "mZWsxCepxDuc",
        "colab": {
          "base_uri": "https://localhost:8080/",
          "height": 204
        },
        "outputId": "20501027-eb40-46d5-fe81-b83512e0baa8"
      },
      "source": [
        "# Calcula a média de faturamento dos anúncios por bairro\n",
        "df2_merged = df_merged.groupby('suburb', as_index=False).billing.mean().round(2)\n",
        "df2_merged.sort_values(['billing'], inplace=True)\n",
        "df2_merged"
      ],
      "execution_count": 28,
      "outputs": [
        {
          "output_type": "execute_result",
          "data": {
            "text/html": [
              "<div>\n",
              "<style scoped>\n",
              "    .dataframe tbody tr th:only-of-type {\n",
              "        vertical-align: middle;\n",
              "    }\n",
              "\n",
              "    .dataframe tbody tr th {\n",
              "        vertical-align: top;\n",
              "    }\n",
              "\n",
              "    .dataframe thead th {\n",
              "        text-align: right;\n",
              "    }\n",
              "</style>\n",
              "<table border=\"1\" class=\"dataframe\">\n",
              "  <thead>\n",
              "    <tr style=\"text-align: right;\">\n",
              "      <th></th>\n",
              "      <th>suburb</th>\n",
              "      <th>billing</th>\n",
              "    </tr>\n",
              "  </thead>\n",
              "  <tbody>\n",
              "    <tr>\n",
              "      <th>1</th>\n",
              "      <td>Centro</td>\n",
              "      <td>219.70</td>\n",
              "    </tr>\n",
              "    <tr>\n",
              "      <th>4</th>\n",
              "      <td>Lagoa da Conceição</td>\n",
              "      <td>243.83</td>\n",
              "    </tr>\n",
              "    <tr>\n",
              "      <th>0</th>\n",
              "      <td>Canasvieiras</td>\n",
              "      <td>294.30</td>\n",
              "    </tr>\n",
              "    <tr>\n",
              "      <th>2</th>\n",
              "      <td>Ingleses</td>\n",
              "      <td>350.27</td>\n",
              "    </tr>\n",
              "    <tr>\n",
              "      <th>3</th>\n",
              "      <td>Jurerê</td>\n",
              "      <td>414.28</td>\n",
              "    </tr>\n",
              "  </tbody>\n",
              "</table>\n",
              "</div>"
            ],
            "text/plain": [
              "               suburb  billing\n",
              "1              Centro   219.70\n",
              "4  Lagoa da Conceição   243.83\n",
              "0        Canasvieiras   294.30\n",
              "2            Ingleses   350.27\n",
              "3              Jurerê   414.28"
            ]
          },
          "metadata": {
            "tags": []
          },
          "execution_count": 28
        }
      ]
    },
    {
      "cell_type": "code",
      "metadata": {
        "colab": {
          "base_uri": "https://localhost:8080/",
          "height": 345
        },
        "id": "HyPMEMKBicBu",
        "outputId": "bfd6efac-966f-48a3-a977-5d0662dd3f8c"
      },
      "source": [
        "plt.bar(df2_merged.suburb, df2_merged.billing)\n",
        "plt.xlabel('Suburb')\n",
        "plt.xticks(rotation=30)\n",
        "plt.ylabel('Billing')"
      ],
      "execution_count": 29,
      "outputs": [
        {
          "output_type": "execute_result",
          "data": {
            "text/plain": [
              "Text(0, 0.5, 'Billing')"
            ]
          },
          "metadata": {
            "tags": []
          },
          "execution_count": 29
        },
        {
          "output_type": "display_data",
          "data": {
            "image/png": "[encoded data removed]",
            "text/plain": [
              "<Figure size 432x288 with 1 Axes>"
            ]
          },
          "metadata": {
            "tags": [],
            "needs_background": "light"
          }
        }
      ]
    },
    {
      "cell_type": "markdown",
      "metadata": {
        "id": "vJCziahVobWr"
      },
      "source": [
        "# 3. Existem correlações entre as características de um anúncio e seu faturamento? Quais? Explique."
      ]
    },
    {
      "cell_type": "code",
      "metadata": {
        "colab": {
          "base_uri": "https://localhost:8080/"
        },
        "id": "VD2AK3PzSnrm",
        "outputId": "72e8ca41-cb33-41b8-96e3-b28f519da8bd"
      },
      "source": [
        "from sklearn.preprocessing import OneHotEncoder\n",
        "encoder = OneHotEncoder()\n",
        "\n",
        "X = encoder.fit_transform(df_merged.suburb.values.reshape(-1,1)).toarray()\n",
        "X"
      ],
      "execution_count": 30,
      "outputs": [
        {
          "output_type": "execute_result",
          "data": {
            "text/plain": [
              "array([[0., 0., 0., 1., 0.],\n",
              "       [0., 0., 0., 1., 0.],\n",
              "       [0., 0., 0., 1., 0.],\n",
              "       ...,\n",
              "       [0., 0., 1., 0., 0.],\n",
              "       [0., 0., 1., 0., 0.],\n",
              "       [0., 0., 1., 0., 0.]])"
            ]
          },
          "metadata": {
            "tags": []
          },
          "execution_count": 30
        }
      ]
    },
    {
      "cell_type": "code",
      "metadata": {
        "id": "uhmw626qgvXc"
      },
      "source": [
        "suburb_encoded = pd.DataFrame(X, columns = ['Jurerê', 'Canasvieiras', 'Ingleses', 'Lagoa da Conceição', 'Centro'])"
      ],
      "execution_count": 31,
      "outputs": []
    },
    {
      "cell_type": "code",
      "metadata": {
        "id": "afycG89IgbeG"
      },
      "source": [
        "df_analysis = df_merged.join(suburb_encoded, lsuffix='_caller', rsuffix='_other')\n",
        "df_analysis = df_analysis.drop(columns=['suburb', 'ad_name', 'booked_on', 'date', 'occupied'])"
      ],
      "execution_count": 32,
      "outputs": []
    },
    {
      "cell_type": "code",
      "metadata": {
        "colab": {
          "base_uri": "https://localhost:8080/",
          "height": 546
        },
        "id": "AH7yKzevMrWs",
        "outputId": "988a8685-edc0-4eb8-8d08-b9ba2a3177f7"
      },
      "source": [
        "# Checando se há correlação positiva entre as features e o faturamento\n",
        "import matplotlib.pyplot as plt\n",
        "import seaborn as sns\n",
        "\n",
        "plt.figure(figsize=(10, 7))\n",
        "sns.heatmap(df_analysis.corr(),\n",
        "            annot = True,\n",
        "            vmin=0,\n",
        "            fmt = '.2f',\n",
        "            cmap='Reds')\n",
        "plt.title('Correlation between dataset variables')\n",
        "plt.show()"
      ],
      "execution_count": 33,
      "outputs": [
        {
          "output_type": "display_data",
          "data": {
            "image/png": "[encoded data removed]",
            "text/plain": [
              "<Figure size 720x504 with 2 Axes>"
            ]
          },
          "metadata": {
            "tags": [],
            "needs_background": "light"
          }
        }
      ]
    },
    {
      "cell_type": "markdown",
      "metadata": {
        "id": "DdFywOGw4YeZ"
      },
      "source": [
        "### **CONCLUSÃO:** Através do gráfico de heatmap é possível observar que há sim uma correlação entre as features e o faturamento. Pode-se observar que: number_of_bedrooms', 'number_of_'bathrooms' tem uma forte correlação entre si e com o faturamento, e a feature 'star_rating', junto dos bairros: Ingleses e Lagoa da Conceição apesar de possuirem uma correlação mais fraca com o faturamento, ela também é considerável. \n",
        "### Pode-se absorver também dessa análise que ao alugar através de um anúncio no airbnb, as pessoas costumam procurar por um número de quartos e banheiros equivalente, o que pode estar relacionado com um maior aluguel de suites e geralmente localizados no bairro Ingleses já que esse possue forte correlação com a quantidade desses espaços"
      ]
    },
    {
      "cell_type": "markdown",
      "metadata": {
        "id": "PnklZONq02HU"
      },
      "source": [
        "# 4. Qual a antecedência média das reservas? Esse número é maior ou menor para finais de semana?"
      ]
    },
    {
      "cell_type": "code",
      "metadata": {
        "id": "YMj9aJLGTcQO"
      },
      "source": [
        "# Transformando features de data em tipo datetime para poder manipulá-las\n",
        "df3_price = df2_price.copy()\n",
        "\n",
        "df3_price['booked_on'] = pd.to_datetime(df3_price['booked_on'])\n",
        "df3_price['date'] = pd.to_datetime(df3_price['date'])\n",
        "\n",
        "# Obtendo o dia da semana, começando na segunda-feira com o índice = 0\n",
        "df3_price['days'] = df3_price['date'].dt.weekday"
      ],
      "execution_count": 47,
      "outputs": []
    },
    {
      "cell_type": "code",
      "metadata": {
        "id": "a9CnQWLBhOCe",
        "colab": {
          "base_uri": "https://localhost:8080/",
          "height": 419
        },
        "outputId": "ce79f906-8713-4049-8125-85fdc6e6ca92"
      },
      "source": [
        "# Adiantamento de reservas em dias\n",
        "df4_price = df3_price\n",
        "df4_price['advance_booking'] = (df3_price['date'] - df3_price['booked_on']).dt.days\n",
        "df4_price"
      ],
      "execution_count": 35,
      "outputs": [
        {
          "output_type": "execute_result",
          "data": {
            "text/html": [
              "<div>\n",
              "<style scoped>\n",
              "    .dataframe tbody tr th:only-of-type {\n",
              "        vertical-align: middle;\n",
              "    }\n",
              "\n",
              "    .dataframe tbody tr th {\n",
              "        vertical-align: top;\n",
              "    }\n",
              "\n",
              "    .dataframe thead th {\n",
              "        text-align: right;\n",
              "    }\n",
              "</style>\n",
              "<table border=\"1\" class=\"dataframe\">\n",
              "  <thead>\n",
              "    <tr style=\"text-align: right;\">\n",
              "      <th></th>\n",
              "      <th>airbnb_listing_id</th>\n",
              "      <th>booked_on</th>\n",
              "      <th>date</th>\n",
              "      <th>price_string</th>\n",
              "      <th>occupied</th>\n",
              "      <th>days</th>\n",
              "      <th>advance_booking</th>\n",
              "    </tr>\n",
              "  </thead>\n",
              "  <tbody>\n",
              "    <tr>\n",
              "      <th>12</th>\n",
              "      <td>40206270</td>\n",
              "      <td>2021-01-01</td>\n",
              "      <td>2021-01-01</td>\n",
              "      <td>380.0</td>\n",
              "      <td>1</td>\n",
              "      <td>4</td>\n",
              "      <td>0</td>\n",
              "    </tr>\n",
              "    <tr>\n",
              "      <th>13</th>\n",
              "      <td>40206270</td>\n",
              "      <td>2021-01-01</td>\n",
              "      <td>2021-01-02</td>\n",
              "      <td>380.0</td>\n",
              "      <td>1</td>\n",
              "      <td>5</td>\n",
              "      <td>1</td>\n",
              "    </tr>\n",
              "    <tr>\n",
              "      <th>52</th>\n",
              "      <td>40206270</td>\n",
              "      <td>2021-02-10</td>\n",
              "      <td>2021-02-10</td>\n",
              "      <td>195.0</td>\n",
              "      <td>1</td>\n",
              "      <td>2</td>\n",
              "      <td>0</td>\n",
              "    </tr>\n",
              "    <tr>\n",
              "      <th>53</th>\n",
              "      <td>40206270</td>\n",
              "      <td>2021-02-10</td>\n",
              "      <td>2021-02-11</td>\n",
              "      <td>350.0</td>\n",
              "      <td>1</td>\n",
              "      <td>3</td>\n",
              "      <td>1</td>\n",
              "    </tr>\n",
              "    <tr>\n",
              "      <th>54</th>\n",
              "      <td>40206270</td>\n",
              "      <td>2021-02-10</td>\n",
              "      <td>2021-02-12</td>\n",
              "      <td>350.0</td>\n",
              "      <td>1</td>\n",
              "      <td>4</td>\n",
              "      <td>2</td>\n",
              "    </tr>\n",
              "    <tr>\n",
              "      <th>...</th>\n",
              "      <td>...</td>\n",
              "      <td>...</td>\n",
              "      <td>...</td>\n",
              "      <td>...</td>\n",
              "      <td>...</td>\n",
              "      <td>...</td>\n",
              "      <td>...</td>\n",
              "    </tr>\n",
              "    <tr>\n",
              "      <th>354508</th>\n",
              "      <td>40199361</td>\n",
              "      <td>2020-09-16</td>\n",
              "      <td>2021-03-19</td>\n",
              "      <td>250.0</td>\n",
              "      <td>1</td>\n",
              "      <td>4</td>\n",
              "      <td>184</td>\n",
              "    </tr>\n",
              "    <tr>\n",
              "      <th>354514</th>\n",
              "      <td>40199361</td>\n",
              "      <td>2020-09-14</td>\n",
              "      <td>2021-03-25</td>\n",
              "      <td>250.0</td>\n",
              "      <td>1</td>\n",
              "      <td>3</td>\n",
              "      <td>192</td>\n",
              "    </tr>\n",
              "    <tr>\n",
              "      <th>354517</th>\n",
              "      <td>40199361</td>\n",
              "      <td>2020-09-14</td>\n",
              "      <td>2021-03-28</td>\n",
              "      <td>250.0</td>\n",
              "      <td>1</td>\n",
              "      <td>6</td>\n",
              "      <td>195</td>\n",
              "    </tr>\n",
              "    <tr>\n",
              "      <th>354518</th>\n",
              "      <td>40199361</td>\n",
              "      <td>2020-09-14</td>\n",
              "      <td>2021-03-29</td>\n",
              "      <td>250.0</td>\n",
              "      <td>1</td>\n",
              "      <td>0</td>\n",
              "      <td>196</td>\n",
              "    </tr>\n",
              "    <tr>\n",
              "      <th>354519</th>\n",
              "      <td>40199361</td>\n",
              "      <td>2020-12-03</td>\n",
              "      <td>2021-03-30</td>\n",
              "      <td>200.0</td>\n",
              "      <td>1</td>\n",
              "      <td>1</td>\n",
              "      <td>117</td>\n",
              "    </tr>\n",
              "  </tbody>\n",
              "</table>\n",
              "<p>140508 rows × 7 columns</p>\n",
              "</div>"
            ],
            "text/plain": [
              "        airbnb_listing_id  booked_on  ... days  advance_booking\n",
              "12               40206270 2021-01-01  ...    4                0\n",
              "13               40206270 2021-01-01  ...    5                1\n",
              "52               40206270 2021-02-10  ...    2                0\n",
              "53               40206270 2021-02-10  ...    3                1\n",
              "54               40206270 2021-02-10  ...    4                2\n",
              "...                   ...        ...  ...  ...              ...\n",
              "354508           40199361 2020-09-16  ...    4              184\n",
              "354514           40199361 2020-09-14  ...    3              192\n",
              "354517           40199361 2020-09-14  ...    6              195\n",
              "354518           40199361 2020-09-14  ...    0              196\n",
              "354519           40199361 2020-12-03  ...    1              117\n",
              "\n",
              "[140508 rows x 7 columns]"
            ]
          },
          "metadata": {
            "tags": []
          },
          "execution_count": 35
        }
      ]
    },
    {
      "cell_type": "code",
      "metadata": {
        "colab": {
          "base_uri": "https://localhost:8080/"
        },
        "id": "5QaKNVoKbEaF",
        "outputId": "43445213-4308-4d6f-d308-24c411425953"
      },
      "source": [
        "df4_price['advance_booking'].sort_values()"
      ],
      "execution_count": 36,
      "outputs": [
        {
          "output_type": "execute_result",
          "data": {
            "text/plain": [
              "12           0\n",
              "85443        0\n",
              "85444        0\n",
              "85446        0\n",
              "85450        0\n",
              "          ... \n",
              "120661     369\n",
              "120662     370\n",
              "76559     7622\n",
              "302698    7644\n",
              "238097    7644\n",
              "Name: advance_booking, Length: 140508, dtype: int64"
            ]
          },
          "metadata": {
            "tags": []
          },
          "execution_count": 36
        }
      ]
    },
    {
      "cell_type": "code",
      "metadata": {
        "colab": {
          "base_uri": "https://localhost:8080/",
          "height": 298
        },
        "id": "vKvxGQ0ieFFn",
        "outputId": "f1ce5179-612d-4feb-ecb7-57c7954aa594"
      },
      "source": [
        "plt.boxplot(df4_price.advance_booking)\n",
        "plt.ylabel('Days')\n",
        "plt.title('Advance booking')"
      ],
      "execution_count": 37,
      "outputs": [
        {
          "output_type": "execute_result",
          "data": {
            "text/plain": [
              "Text(0.5, 1.0, 'Advance booking')"
            ]
          },
          "metadata": {
            "tags": []
          },
          "execution_count": 37
        },
        {
          "output_type": "display_data",
          "data": {
            "image/png": "[encoded data removed]",
            "text/plain": [
              "<Figure size 432x288 with 1 Axes>"
            ]
          },
          "metadata": {
            "tags": [],
            "needs_background": "light"
          }
        }
      ]
    },
    {
      "cell_type": "code",
      "metadata": {
        "colab": {
          "base_uri": "https://localhost:8080/"
        },
        "id": "squPK14rVsmD",
        "outputId": "f364b871-bce4-4dcb-9792-4c57ac757d42"
      },
      "source": [
        "# Removendo outliers\n",
        "df5_price = df4_price[df4_price.advance_booking < 36]\n",
        "df5_price['advance_booking'].shape"
      ],
      "execution_count": 38,
      "outputs": [
        {
          "output_type": "execute_result",
          "data": {
            "text/plain": [
              "(100692,)"
            ]
          },
          "metadata": {
            "tags": []
          },
          "execution_count": 38
        }
      ]
    },
    {
      "cell_type": "code",
      "metadata": {
        "colab": {
          "base_uri": "https://localhost:8080/",
          "height": 298
        },
        "id": "Z5h_WzBjy_-M",
        "outputId": "e5f7aaf8-bdff-4d5e-8d77-b06defa7bbfa"
      },
      "source": [
        "plt.boxplot(df5_price.advance_booking)\n",
        "plt.ylabel('Days')\n",
        "plt.title('Advance booking')"
      ],
      "execution_count": 39,
      "outputs": [
        {
          "output_type": "execute_result",
          "data": {
            "text/plain": [
              "Text(0.5, 1.0, 'Advance booking')"
            ]
          },
          "metadata": {
            "tags": []
          },
          "execution_count": 39
        },
        {
          "output_type": "display_data",
          "data": {
            "image/png": "[encoded data removed]",
            "text/plain": [
              "<Figure size 432x288 with 1 Axes>"
            ]
          },
          "metadata": {
            "tags": [],
            "needs_background": "light"
          }
        }
      ]
    },
    {
      "cell_type": "code",
      "metadata": {
        "colab": {
          "base_uri": "https://localhost:8080/"
        },
        "id": "clOlklKGeouN",
        "outputId": "f604807b-1b5d-43c2-9c83-7dfb750defa2"
      },
      "source": [
        "# Média de advance_booking\n",
        "df5_price['advance_booking'].mean()"
      ],
      "execution_count": 49,
      "outputs": [
        {
          "output_type": "execute_result",
          "data": {
            "text/plain": [
              "8.193997537043657"
            ]
          },
          "metadata": {
            "tags": []
          },
          "execution_count": 49
        }
      ]
    },
    {
      "cell_type": "code",
      "metadata": {
        "colab": {
          "base_uri": "https://localhost:8080/",
          "height": 266
        },
        "id": "FmhFem-VVYkw",
        "outputId": "ecae5a99-b511-4108-e63c-1f621e0fdd5c"
      },
      "source": [
        "# Média de reservas realizadas por dia da semana\n",
        "df6_price = df5_price.groupby('days', as_index=False).advance_booking.mean().round(2)\n",
        "df6_price = df6_price.sort_values(['days'])\n",
        "df6_price"
      ],
      "execution_count": 41,
      "outputs": [
        {
          "output_type": "execute_result",
          "data": {
            "text/html": [
              "<div>\n",
              "<style scoped>\n",
              "    .dataframe tbody tr th:only-of-type {\n",
              "        vertical-align: middle;\n",
              "    }\n",
              "\n",
              "    .dataframe tbody tr th {\n",
              "        vertical-align: top;\n",
              "    }\n",
              "\n",
              "    .dataframe thead th {\n",
              "        text-align: right;\n",
              "    }\n",
              "</style>\n",
              "<table border=\"1\" class=\"dataframe\">\n",
              "  <thead>\n",
              "    <tr style=\"text-align: right;\">\n",
              "      <th></th>\n",
              "      <th>days</th>\n",
              "      <th>advance_booking</th>\n",
              "    </tr>\n",
              "  </thead>\n",
              "  <tbody>\n",
              "    <tr>\n",
              "      <th>0</th>\n",
              "      <td>0</td>\n",
              "      <td>8.11</td>\n",
              "    </tr>\n",
              "    <tr>\n",
              "      <th>1</th>\n",
              "      <td>1</td>\n",
              "      <td>7.66</td>\n",
              "    </tr>\n",
              "    <tr>\n",
              "      <th>2</th>\n",
              "      <td>2</td>\n",
              "      <td>7.97</td>\n",
              "    </tr>\n",
              "    <tr>\n",
              "      <th>3</th>\n",
              "      <td>3</td>\n",
              "      <td>8.25</td>\n",
              "    </tr>\n",
              "    <tr>\n",
              "      <th>4</th>\n",
              "      <td>4</td>\n",
              "      <td>8.37</td>\n",
              "    </tr>\n",
              "    <tr>\n",
              "      <th>5</th>\n",
              "      <td>5</td>\n",
              "      <td>8.35</td>\n",
              "    </tr>\n",
              "    <tr>\n",
              "      <th>6</th>\n",
              "      <td>6</td>\n",
              "      <td>8.58</td>\n",
              "    </tr>\n",
              "  </tbody>\n",
              "</table>\n",
              "</div>"
            ],
            "text/plain": [
              "   days  advance_booking\n",
              "0     0             8.11\n",
              "1     1             7.66\n",
              "2     2             7.97\n",
              "3     3             8.25\n",
              "4     4             8.37\n",
              "5     5             8.35\n",
              "6     6             8.58"
            ]
          },
          "metadata": {
            "tags": []
          },
          "execution_count": 41
        }
      ]
    },
    {
      "cell_type": "code",
      "metadata": {
        "colab": {
          "base_uri": "https://localhost:8080/",
          "height": 312
        },
        "id": "9oX58Q0iHm1S",
        "outputId": "5828e1aa-ba0e-447e-9e4e-06b6ced97630"
      },
      "source": [
        "plt.plot(df6_price.days, df6_price.advance_booking)\n",
        "plt.xlabel('Days')\n",
        "plt.title('Advance booking')"
      ],
      "execution_count": 42,
      "outputs": [
        {
          "output_type": "execute_result",
          "data": {
            "text/plain": [
              "Text(0.5, 1.0, 'Advance booking')"
            ]
          },
          "metadata": {
            "tags": []
          },
          "execution_count": 42
        },
        {
          "output_type": "display_data",
          "data": {
            "image/png": "[encoded data removed]",
            "text/plain": [
              "<Figure size 432x288 with 1 Axes>"
            ]
          },
          "metadata": {
            "tags": [],
            "needs_background": "light"
          }
        }
      ]
    },
    {
      "cell_type": "markdown",
      "metadata": {
        "id": "i9TfVphXDI0U"
      },
      "source": [
        "## **CONCLUSÃO:** Desconsiderando os outliers, houve uma antecedência média de 8.19 dias nas reservas e esse número foi maior no final de semana"
      ]
    },
    {
      "cell_type": "markdown",
      "metadata": {
        "id": "Rdg-u_d4alHX"
      },
      "source": [
        "# Análise Bônus"
      ]
    },
    {
      "cell_type": "markdown",
      "metadata": {
        "id": "JA_1FJaxZkD3"
      },
      "source": [
        "## Para quando as propriedades foram alugadas com mais frequência"
      ]
    },
    {
      "cell_type": "code",
      "metadata": {
        "id": "SUGl17nVqibE"
      },
      "source": [
        "df7_price = df5_price.copy()\n",
        "df7_price['months'] = df7_price['date'].dt.month_name()"
      ],
      "execution_count": 43,
      "outputs": []
    },
    {
      "cell_type": "code",
      "metadata": {
        "colab": {
          "base_uri": "https://localhost:8080/"
        },
        "id": "olbSobRKLEna",
        "outputId": "931c73ea-1b26-40b9-bf60-f6200f8614eb"
      },
      "source": [
        "# Checando os meses inclusos no dataset\n",
        "df7_price['months'].unique()"
      ],
      "execution_count": 44,
      "outputs": [
        {
          "output_type": "execute_result",
          "data": {
            "text/plain": [
              "array(['January', 'February', 'March', 'December', 'November'],\n",
              "      dtype=object)"
            ]
          },
          "metadata": {
            "tags": []
          },
          "execution_count": 44
        }
      ]
    },
    {
      "cell_type": "code",
      "metadata": {
        "id": "pPIPJKaTbTsa"
      },
      "source": [
        "# Agrupando os dias e os meses por sua frequência\n",
        "df_days = df7_price.groupby('days', as_index=False).days.count()\n",
        "df_months = df7_price.groupby('months', as_index=False).months.count()\n",
        "\n",
        "# Listas usadas para representar o eixo X nos gráficos\n",
        "days = [\n",
        "        'Monday',\n",
        "        'Tuesday',\n",
        "        'Wednesday',\n",
        "        'Thursday',\n",
        "        'Friday',\n",
        "        'Saturday',\n",
        "        'Sunday'\n",
        "]\n",
        "\n",
        "months = [\n",
        "          'Jan',\n",
        "          'Feb',\n",
        "          'Mar',\n",
        "          'Nov',\n",
        "          'Dec'\n",
        "]"
      ],
      "execution_count": 45,
      "outputs": []
    },
    {
      "cell_type": "code",
      "metadata": {
        "colab": {
          "base_uri": "https://localhost:8080/",
          "height": 421
        },
        "id": "W3nsTn3LEANC",
        "outputId": "caa5f055-8397-462f-82b1-6e0d18913c91"
      },
      "source": [
        "# Plotando gráficos para análise\n",
        "\n",
        "fig, axes = plt.subplots(nrows=1, ncols=2, figsize=(18, 6))\n",
        "axes[0].plot(days, df_days)\n",
        "axes[0].set_xlabel('Weekday')\n",
        "axes[0].set_ylabel('Frequency')\n",
        "axes[0].set_title('Frequency of rented ads during the week')\n",
        "\n",
        "axes[1].plot(months, df_months)\n",
        "axes[1].set_xlabel('Months')\n",
        "axes[1].set_ylabel('Frequency')\n",
        "axes[1].set_title('Frequency of rented ads during the year')"
      ],
      "execution_count": 46,
      "outputs": [
        {
          "output_type": "execute_result",
          "data": {
            "text/plain": [
              "Text(0.5, 1.0, 'Frequency of rented ads during the year')"
            ]
          },
          "metadata": {
            "tags": []
          },
          "execution_count": 46
        },
        {
          "output_type": "display_data",
          "data": {
            "image/png": "[encoded data removed]",
            "text/plain": [
              "<Figure size 1296x432 with 2 Axes>"
            ]
          },
          "metadata": {
            "tags": [],
            "needs_background": "light"
          }
        }
      ]
    },
    {
      "cell_type": "markdown",
      "metadata": {
        "id": "AtudiQu2UpeL"
      },
      "source": [
        "## **CONCLUSÃO:** Como pode ser visualizado nos gráficos a cima, os alugueis dos imoveis anunciados estão focados nos finais de semana e no primeiro trimestre do ano, correspondente ao verão"
      ]
    }
  ]
}