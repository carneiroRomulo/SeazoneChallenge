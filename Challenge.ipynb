{
  "nbformat": 4,
  "nbformat_minor": 0,
  "metadata": {
    "colab": {
      "name": "Challenge.ipynb",
      "provenance": [],
      "collapsed_sections": []
    },
    "kernelspec": {
      "display_name": "Python 3",
      "name": "python3"
    },
    "language_info": {
      "name": "python"
    }
  },
  "cells": [
    {
      "cell_type": "markdown",
      "metadata": {
        "id": "45KskOF1BDDi"
      },
      "source": [
        "# Import Libraries"
      ]
    },
    {
      "cell_type": "code",
      "metadata": {
        "id": "E0t24kuzA8Pf"
      },
      "source": [
        "# Import used libraries\n",
        "import numpy as np\n",
        "import pandas as pd\n",
        "import matplotlib.pyplot as plt"
      ],
      "execution_count": 1,
      "outputs": []
    },
    {
      "cell_type": "markdown",
      "metadata": {
        "id": "V5K_YADfBQJ8"
      },
      "source": [
        "# Import Dataset"
      ]
    },
    {
      "cell_type": "code",
      "metadata": {
        "id": "5qB6esG5BSe1"
      },
      "source": [
        "# Import used datasets\n",
        "raw_details_df = pd.read_csv('https://raw.githubusercontent.com/carneiroRomulo/SeazoneChallenge/main/datasets/details.csv')\n",
        "raw_priceav_df = pd.read_csv('https://raw.githubusercontent.com/carneiroRomulo/SeazoneChallenge/main/datasets/priceav.csv')"
      ],
      "execution_count": 2,
      "outputs": []
    },
    {
      "cell_type": "markdown",
      "metadata": {
        "id": "zRzIW2fu9xu5"
      },
      "source": [
        "# Data Cleaning\n"
      ]
    },
    {
      "cell_type": "code",
      "metadata": {
        "colab": {
          "base_uri": "https://localhost:8080/",
          "height": 340
        },
        "id": "UBb7KuF7gPKq",
        "outputId": "18857137-abec-4e2b-f15f-49633f2b4df1"
      },
      "source": [
        "# View the structure of the 'details.csv' dataset\n",
        "raw_details_df.head()"
      ],
      "execution_count": 3,
      "outputs": [
        {
          "output_type": "execute_result",
          "data": {
            "text/html": [
              "<div>\n",
              "<style scoped>\n",
              "    .dataframe tbody tr th:only-of-type {\n",
              "        vertical-align: middle;\n",
              "    }\n",
              "\n",
              "    .dataframe tbody tr th {\n",
              "        vertical-align: top;\n",
              "    }\n",
              "\n",
              "    .dataframe thead th {\n",
              "        text-align: right;\n",
              "    }\n",
              "</style>\n",
              "<table border=\"1\" class=\"dataframe\">\n",
              "  <thead>\n",
              "    <tr style=\"text-align: right;\">\n",
              "      <th></th>\n",
              "      <th>Unnamed: 0</th>\n",
              "      <th>airbnb_listing_id</th>\n",
              "      <th>suburb</th>\n",
              "      <th>ad_name</th>\n",
              "      <th>number_of_bedrooms</th>\n",
              "      <th>number_of_bathrooms</th>\n",
              "      <th>star_rating</th>\n",
              "      <th>is_superhost</th>\n",
              "      <th>number_of_reviews</th>\n",
              "    </tr>\n",
              "  </thead>\n",
              "  <tbody>\n",
              "    <tr>\n",
              "      <th>0</th>\n",
              "      <td>0</td>\n",
              "      <td>31389869</td>\n",
              "      <td>Jurerê</td>\n",
              "      <td>Lindo Apartamento em Jurerê</td>\n",
              "      <td>2.0</td>\n",
              "      <td>2.0</td>\n",
              "      <td>5.0</td>\n",
              "      <td>False</td>\n",
              "      <td>15.0</td>\n",
              "    </tr>\n",
              "    <tr>\n",
              "      <th>1</th>\n",
              "      <td>1</td>\n",
              "      <td>40010667</td>\n",
              "      <td>Canasvieiras</td>\n",
              "      <td>Residencial Arruda, 1 quarto</td>\n",
              "      <td>1.0</td>\n",
              "      <td>1.0</td>\n",
              "      <td>NaN</td>\n",
              "      <td>False</td>\n",
              "      <td>0.0</td>\n",
              "    </tr>\n",
              "    <tr>\n",
              "      <th>2</th>\n",
              "      <td>2</td>\n",
              "      <td>38905997</td>\n",
              "      <td>Ingleses</td>\n",
              "      <td>Apartamento NOVO Completo - Moderno e Sofisticado</td>\n",
              "      <td>1.0</td>\n",
              "      <td>1.0</td>\n",
              "      <td>4.5</td>\n",
              "      <td>True</td>\n",
              "      <td>13.0</td>\n",
              "    </tr>\n",
              "    <tr>\n",
              "      <th>3</th>\n",
              "      <td>3</td>\n",
              "      <td>22343656</td>\n",
              "      <td>Ingleses</td>\n",
              "      <td>06- Apartamento 02 habitaciones</td>\n",
              "      <td>2.0</td>\n",
              "      <td>1.0</td>\n",
              "      <td>5.0</td>\n",
              "      <td>True</td>\n",
              "      <td>28.0</td>\n",
              "    </tr>\n",
              "    <tr>\n",
              "      <th>4</th>\n",
              "      <td>4</td>\n",
              "      <td>18328184</td>\n",
              "      <td>Canasvieiras</td>\n",
              "      <td>Apto 2 quartos em Canasvieiras, Florianopolis!</td>\n",
              "      <td>2.0</td>\n",
              "      <td>1.0</td>\n",
              "      <td>5.0</td>\n",
              "      <td>True</td>\n",
              "      <td>35.0</td>\n",
              "    </tr>\n",
              "  </tbody>\n",
              "</table>\n",
              "</div>"
            ],
            "text/plain": [
              "   Unnamed: 0  airbnb_listing_id  ... is_superhost number_of_reviews\n",
              "0           0           31389869  ...        False              15.0\n",
              "1           1           40010667  ...        False               0.0\n",
              "2           2           38905997  ...         True              13.0\n",
              "3           3           22343656  ...         True              28.0\n",
              "4           4           18328184  ...         True              35.0\n",
              "\n",
              "[5 rows x 9 columns]"
            ]
          },
          "metadata": {
            "tags": []
          },
          "execution_count": 3
        }
      ]
    },
    {
      "cell_type": "code",
      "metadata": {
        "id": "_Q7MVT4onNJj"
      },
      "source": [
        "# Removes features not needed for analysis\n",
        "raw_details_df = raw_details_df.drop(columns=['Unnamed: 0'])"
      ],
      "execution_count": 4,
      "outputs": []
    },
    {
      "cell_type": "code",
      "metadata": {
        "colab": {
          "base_uri": "https://localhost:8080/"
        },
        "id": "o8_pknk963eW",
        "outputId": "6dbbca82-6934-4060-fa19-ead591237005"
      },
      "source": [
        "# Checks for relevant NaN values in the 'details.csv' dataset\n",
        "raw_details_df.isna().sum()"
      ],
      "execution_count": 5,
      "outputs": [
        {
          "output_type": "execute_result",
          "data": {
            "text/plain": [
              "airbnb_listing_id         0\n",
              "suburb                    0\n",
              "ad_name                   0\n",
              "number_of_bedrooms      183\n",
              "number_of_bathrooms       1\n",
              "star_rating            2121\n",
              "is_superhost              0\n",
              "number_of_reviews         7\n",
              "dtype: int64"
            ]
          },
          "metadata": {
            "tags": []
          },
          "execution_count": 5
        }
      ]
    },
    {
      "cell_type": "code",
      "metadata": {
        "colab": {
          "base_uri": "https://localhost:8080/"
        },
        "id": "ImpS03w4TXBK",
        "outputId": "897720c2-3f78-4e9b-935e-0c3b719ea594"
      },
      "source": [
        "raw_details_df.shape"
      ],
      "execution_count": 6,
      "outputs": [
        {
          "output_type": "execute_result",
          "data": {
            "text/plain": [
              "(4691, 8)"
            ]
          },
          "metadata": {
            "tags": []
          },
          "execution_count": 6
        }
      ]
    },
    {
      "cell_type": "code",
      "metadata": {
        "id": "q7r-IGtOQjcI"
      },
      "source": [
        "# Droping data that has insignificant amout of missing values\n",
        "df1_details = raw_details_df.dropna(subset=['number_of_bathrooms', 'number_of_reviews','number_of_bedrooms'])"
      ],
      "execution_count": 7,
      "outputs": []
    },
    {
      "cell_type": "code",
      "metadata": {
        "colab": {
          "base_uri": "https://localhost:8080/"
        },
        "id": "S4rihVFTeqHO",
        "outputId": "a4593732-bafe-4e10-cfdf-9b2bd109256f"
      },
      "source": [
        "# Checking if there is an ad with star_rating bigger than zero even if the number_of_reviews is zero\n",
        "df1_details.star_rating[df1_details.number_of_reviews == 0].sort_values(ascending=False)"
      ],
      "execution_count": 8,
      "outputs": [
        {
          "output_type": "execute_result",
          "data": {
            "text/plain": [
              "4517    0.0\n",
              "2104    0.0\n",
              "2035    0.0\n",
              "1741    0.0\n",
              "1474    0.0\n",
              "       ... \n",
              "4674    NaN\n",
              "4677    NaN\n",
              "4685    NaN\n",
              "4686    NaN\n",
              "4687    NaN\n",
              "Name: star_rating, Length: 1113, dtype: float64"
            ]
          },
          "metadata": {
            "tags": []
          },
          "execution_count": 8
        }
      ]
    },
    {
      "cell_type": "code",
      "metadata": {
        "colab": {
          "base_uri": "https://localhost:8080/"
        },
        "id": "Y1v4XYyseOx0",
        "outputId": "f1d0a2a2-5036-4e12-cdcf-b8e88d991ff5"
      },
      "source": [
        "df1_details.star_rating.describe()"
      ],
      "execution_count": 9,
      "outputs": [
        {
          "output_type": "execute_result",
          "data": {
            "text/plain": [
              "count    2450.000000\n",
              "mean        4.831837\n",
              "std         0.435143\n",
              "min         0.000000\n",
              "25%         4.500000\n",
              "50%         5.000000\n",
              "75%         5.000000\n",
              "max         5.000000\n",
              "Name: star_rating, dtype: float64"
            ]
          },
          "metadata": {
            "tags": []
          },
          "execution_count": 9
        }
      ]
    },
    {
      "cell_type": "code",
      "metadata": {
        "id": "d9IBD1wOZfqP"
      },
      "source": [
        "# Completing the missing values that are too important to be eliminated, filling them with the median\n",
        "df2_details = df1_details.fillna(df1_details['star_rating'].median())"
      ],
      "execution_count": 10,
      "outputs": []
    },
    {
      "cell_type": "code",
      "metadata": {
        "colab": {
          "base_uri": "https://localhost:8080/"
        },
        "id": "Nm7QhxjhRb16",
        "outputId": "af1019be-f252-42af-b3d8-1145dd747949"
      },
      "source": [
        "df2_details['number_of_bedrooms'].unique()"
      ],
      "execution_count": 11,
      "outputs": [
        {
          "output_type": "execute_result",
          "data": {
            "text/plain": [
              "array([ 2.,  1.,  3.,  4.,  5.,  6., 10.])"
            ]
          },
          "metadata": {
            "tags": []
          },
          "execution_count": 11
        }
      ]
    },
    {
      "cell_type": "code",
      "metadata": {
        "colab": {
          "base_uri": "https://localhost:8080/"
        },
        "id": "TbXzmnBaU1wI",
        "outputId": "8c328b0a-3bb5-4366-8dfc-da9d88de3314"
      },
      "source": [
        "df2_details['number_of_bathrooms'].unique()"
      ],
      "execution_count": 12,
      "outputs": [
        {
          "output_type": "execute_result",
          "data": {
            "text/plain": [
              "array([2., 1., 4., 3., 5., 0., 6., 8.])"
            ]
          },
          "metadata": {
            "tags": []
          },
          "execution_count": 12
        }
      ]
    },
    {
      "cell_type": "code",
      "metadata": {
        "colab": {
          "base_uri": "https://localhost:8080/"
        },
        "id": "MN749cGbULxZ",
        "outputId": "23e9990f-8c55-4a9b-eafd-3cabe40cc77e"
      },
      "source": [
        "# Checking for possibles outliers\n",
        "df2_details[df2_details.number_of_bedrooms>3].shape"
      ],
      "execution_count": 13,
      "outputs": [
        {
          "output_type": "execute_result",
          "data": {
            "text/plain": [
              "(79, 8)"
            ]
          },
          "metadata": {
            "tags": []
          },
          "execution_count": 13
        }
      ]
    },
    {
      "cell_type": "code",
      "metadata": {
        "colab": {
          "base_uri": "https://localhost:8080/"
        },
        "id": "1_ykj-h89eHr",
        "outputId": "605715ce-0054-43a3-95b5-7868df771214"
      },
      "source": [
        "df2_details[df2_details.number_of_bedrooms>3].shape"
      ],
      "execution_count": 14,
      "outputs": [
        {
          "output_type": "execute_result",
          "data": {
            "text/plain": [
              "(79, 8)"
            ]
          },
          "metadata": {
            "tags": []
          },
          "execution_count": 14
        }
      ]
    },
    {
      "cell_type": "code",
      "metadata": {
        "id": "Cqm58cLZ9Nd1"
      },
      "source": [
        "# Removing outliers\n",
        "df2_details = df2_details[(df2_details.number_of_bedrooms<4) & (df2_details.number_of_bathrooms<4)]"
      ],
      "execution_count": 15,
      "outputs": []
    },
    {
      "cell_type": "code",
      "metadata": {
        "colab": {
          "base_uri": "https://localhost:8080/",
          "height": 204
        },
        "id": "AMk7yI4EgTLM",
        "outputId": "ac058af5-6497-4d7e-f005-d945d8cbf572"
      },
      "source": [
        "# View the structure of the 'priceav.csv' dataset\n",
        "raw_priceav_df.head()"
      ],
      "execution_count": 16,
      "outputs": [
        {
          "output_type": "execute_result",
          "data": {
            "text/html": [
              "<div>\n",
              "<style scoped>\n",
              "    .dataframe tbody tr th:only-of-type {\n",
              "        vertical-align: middle;\n",
              "    }\n",
              "\n",
              "    .dataframe tbody tr th {\n",
              "        vertical-align: top;\n",
              "    }\n",
              "\n",
              "    .dataframe thead th {\n",
              "        text-align: right;\n",
              "    }\n",
              "</style>\n",
              "<table border=\"1\" class=\"dataframe\">\n",
              "  <thead>\n",
              "    <tr style=\"text-align: right;\">\n",
              "      <th></th>\n",
              "      <th>Unnamed: 0</th>\n",
              "      <th>Unnamed: 0.1</th>\n",
              "      <th>airbnb_listing_id</th>\n",
              "      <th>booked_on</th>\n",
              "      <th>date</th>\n",
              "      <th>price_string</th>\n",
              "      <th>occupied</th>\n",
              "    </tr>\n",
              "  </thead>\n",
              "  <tbody>\n",
              "    <tr>\n",
              "      <th>0</th>\n",
              "      <td>0</td>\n",
              "      <td>2148</td>\n",
              "      <td>40201349</td>\n",
              "      <td>blank</td>\n",
              "      <td>2020-11-15</td>\n",
              "      <td>250.0</td>\n",
              "      <td>0</td>\n",
              "    </tr>\n",
              "    <tr>\n",
              "      <th>1</th>\n",
              "      <td>1</td>\n",
              "      <td>2159</td>\n",
              "      <td>40201349</td>\n",
              "      <td>blank</td>\n",
              "      <td>2020-11-26</td>\n",
              "      <td>250.0</td>\n",
              "      <td>0</td>\n",
              "    </tr>\n",
              "    <tr>\n",
              "      <th>2</th>\n",
              "      <td>2</td>\n",
              "      <td>2160</td>\n",
              "      <td>40201349</td>\n",
              "      <td>blank</td>\n",
              "      <td>2020-11-27</td>\n",
              "      <td>250.0</td>\n",
              "      <td>0</td>\n",
              "    </tr>\n",
              "    <tr>\n",
              "      <th>3</th>\n",
              "      <td>3</td>\n",
              "      <td>2173</td>\n",
              "      <td>40201349</td>\n",
              "      <td>blank</td>\n",
              "      <td>2020-12-10</td>\n",
              "      <td>250.0</td>\n",
              "      <td>0</td>\n",
              "    </tr>\n",
              "    <tr>\n",
              "      <th>4</th>\n",
              "      <td>4</td>\n",
              "      <td>2226</td>\n",
              "      <td>40201349</td>\n",
              "      <td>blank</td>\n",
              "      <td>2021-02-01</td>\n",
              "      <td>250.0</td>\n",
              "      <td>0</td>\n",
              "    </tr>\n",
              "  </tbody>\n",
              "</table>\n",
              "</div>"
            ],
            "text/plain": [
              "   Unnamed: 0  Unnamed: 0.1  ...  price_string occupied\n",
              "0           0          2148  ...         250.0        0\n",
              "1           1          2159  ...         250.0        0\n",
              "2           2          2160  ...         250.0        0\n",
              "3           3          2173  ...         250.0        0\n",
              "4           4          2226  ...         250.0        0\n",
              "\n",
              "[5 rows x 7 columns]"
            ]
          },
          "metadata": {
            "tags": []
          },
          "execution_count": 16
        }
      ]
    },
    {
      "cell_type": "code",
      "metadata": {
        "colab": {
          "base_uri": "https://localhost:8080/"
        },
        "id": "GptiLaNghANx",
        "outputId": "d45f4637-d336-4b00-ff64-4e2e2c533d08"
      },
      "source": [
        "raw_priceav_df.dtypes"
      ],
      "execution_count": 17,
      "outputs": [
        {
          "output_type": "execute_result",
          "data": {
            "text/plain": [
              "Unnamed: 0             int64\n",
              "Unnamed: 0.1           int64\n",
              "airbnb_listing_id      int64\n",
              "booked_on             object\n",
              "date                  object\n",
              "price_string         float64\n",
              "occupied               int64\n",
              "dtype: object"
            ]
          },
          "metadata": {
            "tags": []
          },
          "execution_count": 17
        }
      ]
    },
    {
      "cell_type": "code",
      "metadata": {
        "colab": {
          "base_uri": "https://localhost:8080/"
        },
        "id": "Lu0sDvRom1WS",
        "outputId": "8a1174e2-9586-4542-e3bf-e8e04e417b14"
      },
      "source": [
        "# Checks for relevant NaN values in the 'priceav.csv' dataset\n",
        "raw_priceav_df.isna().sum()"
      ],
      "execution_count": 18,
      "outputs": [
        {
          "output_type": "execute_result",
          "data": {
            "text/plain": [
              "Unnamed: 0           0\n",
              "Unnamed: 0.1         0\n",
              "airbnb_listing_id    0\n",
              "booked_on            0\n",
              "date                 0\n",
              "price_string         0\n",
              "occupied             0\n",
              "dtype: int64"
            ]
          },
          "metadata": {
            "tags": []
          },
          "execution_count": 18
        }
      ]
    },
    {
      "cell_type": "code",
      "metadata": {
        "colab": {
          "base_uri": "https://localhost:8080/"
        },
        "id": "NSdW8kV4hLHJ",
        "outputId": "cc2c3f24-d857-49f3-f707-7230f823722d"
      },
      "source": [
        "raw_priceav_df['booked_on'].unique()"
      ],
      "execution_count": 19,
      "outputs": [
        {
          "output_type": "execute_result",
          "data": {
            "text/plain": [
              "array(['blank', '2021-01-01 00:00:00', '2021-02-10 00:00:00',\n",
              "       '2021-03-15 00:00:00', '2020-04-01 00:00:00',\n",
              "       '2020-10-16 00:00:00', '2020-09-03 00:00:00',\n",
              "       '2020-11-10 00:00:00', '2020-12-31 00:00:00',\n",
              "       '2021-01-20 00:00:00', '2020-09-16 00:00:00',\n",
              "       '2021-03-17 00:00:00', '2021-01-07 00:00:00',\n",
              "       '2021-01-09 00:00:00', '2021-01-10 00:00:00',\n",
              "       '2021-01-11 00:00:00', '2021-01-12 00:00:00',\n",
              "       '2021-01-13 00:00:00', '2021-01-16 00:00:00',\n",
              "       '2021-01-17 00:00:00', '2021-01-19 00:00:00',\n",
              "       '2021-01-21 00:00:00', '2021-01-22 00:00:00',\n",
              "       '2021-01-23 00:00:00', '2021-01-24 00:00:00',\n",
              "       '2021-01-27 00:00:00', '2021-01-30 00:00:00',\n",
              "       '2021-02-01 00:00:00', '2021-02-03 00:00:00',\n",
              "       '2021-02-04 00:00:00', '2021-02-05 00:00:00',\n",
              "       '2021-02-06 00:00:00', '2021-02-07 00:00:00',\n",
              "       '2021-02-09 00:00:00', '2021-02-12 00:00:00',\n",
              "       '2021-02-14 00:00:00', '2021-02-15 00:00:00',\n",
              "       '2021-02-17 00:00:00', '2021-02-19 00:00:00',\n",
              "       '2021-02-21 00:00:00', '2021-02-22 00:00:00',\n",
              "       '2021-02-23 00:00:00', '2021-02-25 00:00:00',\n",
              "       '2021-02-27 00:00:00', '2021-02-28 00:00:00',\n",
              "       '2021-03-01 00:00:00', '2021-03-05 00:00:00',\n",
              "       '2021-03-06 00:00:00', '2021-03-09 00:00:00',\n",
              "       '2021-03-12 00:00:00', '2021-03-13 00:00:00',\n",
              "       '2021-03-14 00:00:00', '2021-03-18 00:00:00',\n",
              "       '2021-03-19 00:00:00', '2021-03-20 00:00:00',\n",
              "       '2021-03-22 00:00:00', '2021-03-26 00:00:00',\n",
              "       '2021-03-27 00:00:00', '2021-03-28 00:00:00',\n",
              "       '2020-10-23 00:00:00', '2020-03-29 00:00:00',\n",
              "       '2020-12-27 00:00:00', '2020-12-15 00:00:00',\n",
              "       '2020-12-30 00:00:00', '2020-03-31 00:00:00',\n",
              "       '2020-03-18 00:00:00', '2020-03-15 00:00:00',\n",
              "       '2020-11-02 00:00:00', '2020-11-03 00:00:00',\n",
              "       '2020-11-04 00:00:00', '2020-11-05 00:00:00',\n",
              "       '2020-11-09 00:00:00', '2020-11-14 00:00:00',\n",
              "       '2020-11-16 00:00:00', '2020-11-17 00:00:00',\n",
              "       '2020-11-18 00:00:00', '2020-11-19 00:00:00',\n",
              "       '2020-11-23 00:00:00', '2020-11-24 00:00:00',\n",
              "       '2020-11-30 00:00:00', '2020-12-01 00:00:00',\n",
              "       '2020-12-03 00:00:00', '2020-12-04 00:00:00',\n",
              "       '2020-12-05 00:00:00', '2020-12-06 00:00:00',\n",
              "       '2020-12-07 00:00:00', '2020-12-08 00:00:00',\n",
              "       '2020-12-09 00:00:00', '2020-12-12 00:00:00',\n",
              "       '2020-12-16 00:00:00', '2020-12-17 00:00:00',\n",
              "       '2020-12-18 00:00:00', '2020-12-19 00:00:00',\n",
              "       '2020-12-20 00:00:00', '2020-12-21 00:00:00',\n",
              "       '2020-12-23 00:00:00', '2020-12-24 00:00:00',\n",
              "       '2020-12-25 00:00:00', '2020-12-26 00:00:00',\n",
              "       '2021-01-04 00:00:00', '2021-01-05 00:00:00',\n",
              "       '2021-01-06 00:00:00', '2021-01-08 00:00:00',\n",
              "       '2021-01-14 00:00:00', '2021-01-15 00:00:00',\n",
              "       '2021-01-18 00:00:00', '2021-01-26 00:00:00',\n",
              "       '2021-01-28 00:00:00', '2021-02-16 00:00:00',\n",
              "       '2021-02-20 00:00:00', '2021-02-24 00:00:00',\n",
              "       '2021-03-02 00:00:00', '2021-03-04 00:00:00',\n",
              "       '2021-03-07 00:00:00', '2021-03-10 00:00:00',\n",
              "       '2021-03-11 00:00:00', '2021-03-16 00:00:00',\n",
              "       '2021-03-29 00:00:00', '2021-03-30 00:00:00',\n",
              "       '2020-10-21 00:00:00', '2020-11-25 00:00:00',\n",
              "       '2021-01-29 00:00:00', '2021-01-31 00:00:00',\n",
              "       '2021-02-02 00:00:00', '2021-02-13 00:00:00',\n",
              "       '2021-02-26 00:00:00', '2021-03-03 00:00:00',\n",
              "       '2021-03-21 00:00:00', '2020-12-28 00:00:00',\n",
              "       '2020-11-01 00:00:00', '2020-11-22 00:00:00',\n",
              "       '2021-02-08 00:00:00', '2020-12-13 00:00:00',\n",
              "       '2020-12-29 00:00:00', '2021-01-03 00:00:00',\n",
              "       '2021-03-08 00:00:00', '2020-11-12 00:00:00',\n",
              "       '2020-11-13 00:00:00', '2020-11-15 00:00:00',\n",
              "       '2020-12-10 00:00:00', '2021-01-25 00:00:00',\n",
              "       '2021-02-18 00:00:00', '2020-11-06 00:00:00',\n",
              "       '2020-11-11 00:00:00', '2020-11-20 00:00:00',\n",
              "       '2020-11-26 00:00:00', '2020-12-02 00:00:00',\n",
              "       '2020-10-28 00:00:00', '2020-12-11 00:00:00',\n",
              "       '2020-12-14 00:00:00', '2020-12-22 00:00:00',\n",
              "       '2021-01-02 00:00:00', '2021-02-11 00:00:00',\n",
              "       '2020-04-03 00:00:00', '2020-11-29 00:00:00',\n",
              "       '2020-09-23 00:00:00', '2020-10-18 00:00:00',\n",
              "       '2020-09-18 00:00:00', '2020-10-29 00:00:00',\n",
              "       '2020-11-21 00:00:00', '2020-10-26 00:00:00',\n",
              "       '2020-10-25 00:00:00', '2020-09-17 00:00:00',\n",
              "       '2020-03-30 00:00:00', '2020-10-19 00:00:00',\n",
              "       '2020-03-26 00:00:00', '2020-02-15 00:00:00',\n",
              "       '2021-03-25 00:00:00', '2020-10-24 00:00:00',\n",
              "       '2020-10-27 00:00:00', '2020-10-30 00:00:00',\n",
              "       '2020-10-31 00:00:00', '2020-09-09 00:00:00',\n",
              "       '2020-10-04 00:00:00', '2020-10-17 00:00:00',\n",
              "       '2020-03-25 00:00:00', '2020-09-24 00:00:00',\n",
              "       '2020-10-05 00:00:00', '2020-09-11 00:00:00',\n",
              "       '2020-03-21 00:00:00', '2020-09-14 00:00:00',\n",
              "       '2020-09-07 00:00:00', '2020-10-20 00:00:00',\n",
              "       '2020-09-15 00:00:00', '2020-09-13 00:00:00',\n",
              "       '2020-10-06 00:00:00', '2020-09-08 00:00:00',\n",
              "       '2020-03-20 00:00:00', '2020-06-04 00:00:00',\n",
              "       '2020-09-04 00:00:00', '2020-03-13 00:00:00',\n",
              "       '2020-11-27 00:00:00', '2020-09-22 00:00:00',\n",
              "       '2020-10-22 00:00:00', '2020-09-19 00:00:00',\n",
              "       '2020-09-25 00:00:00', '2020-10-02 00:00:00',\n",
              "       '2020-01-02 00:00:00', '2020-10-01 00:00:00',\n",
              "       '2020-09-10 00:00:00', '2020-03-19 00:00:00',\n",
              "       '2020-09-21 00:00:00', '2020-03-24 00:00:00',\n",
              "       '2020-09-29 00:00:00', '2020-11-28 00:00:00',\n",
              "       '2021-03-24 00:00:00', '2020-09-06 00:00:00',\n",
              "       '2020-06-09 00:00:00', '2020-03-02 00:00:00',\n",
              "       '2020-04-08 00:00:00', '2020-09-27 00:00:00',\n",
              "       '2000-01-01 00:00:00', '2020-02-16 00:00:00',\n",
              "       '2020-04-04 00:00:00', '2020-05-11 00:00:00',\n",
              "       '2020-08-28 00:00:00', '2020-03-14 00:00:00',\n",
              "       '2020-08-30 00:00:00', '2020-04-02 00:00:00',\n",
              "       '2020-09-30 00:00:00', '2020-05-06 00:00:00',\n",
              "       '2020-03-01 00:00:00', '2020-01-15 00:00:00',\n",
              "       '2020-10-03 00:00:00', '2020-08-21 00:00:00',\n",
              "       '2020-02-07 00:00:00', '2020-04-10 00:00:00',\n",
              "       '2020-03-17 00:00:00', '2020-05-13 00:00:00',\n",
              "       '2020-07-24 00:00:00', '2020-08-20 00:00:00',\n",
              "       '2020-05-01 00:00:00', '2020-06-24 00:00:00',\n",
              "       '2020-09-02 00:00:00'], dtype=object)"
            ]
          },
          "metadata": {
            "tags": []
          },
          "execution_count": 19
        }
      ]
    },
    {
      "cell_type": "code",
      "metadata": {
        "colab": {
          "base_uri": "https://localhost:8080/"
        },
        "id": "hdyaAkfShlUF",
        "outputId": "bd6b596e-f827-467a-fb53-654a6159f2d8"
      },
      "source": [
        "# Ignoring the time value in 'booked_on'\n",
        "df1_price = raw_priceav_df\n",
        "df1_price['booked_on'] = df1_price['booked_on'].apply(lambda x: x.split(' ')[0])\n",
        "df1_price['booked_on'].unique()"
      ],
      "execution_count": 20,
      "outputs": [
        {
          "output_type": "execute_result",
          "data": {
            "text/plain": [
              "array(['blank', '2021-01-01', '2021-02-10', '2021-03-15', '2020-04-01',\n",
              "       '2020-10-16', '2020-09-03', '2020-11-10', '2020-12-31',\n",
              "       '2021-01-20', '2020-09-16', '2021-03-17', '2021-01-07',\n",
              "       '2021-01-09', '2021-01-10', '2021-01-11', '2021-01-12',\n",
              "       '2021-01-13', '2021-01-16', '2021-01-17', '2021-01-19',\n",
              "       '2021-01-21', '2021-01-22', '2021-01-23', '2021-01-24',\n",
              "       '2021-01-27', '2021-01-30', '2021-02-01', '2021-02-03',\n",
              "       '2021-02-04', '2021-02-05', '2021-02-06', '2021-02-07',\n",
              "       '2021-02-09', '2021-02-12', '2021-02-14', '2021-02-15',\n",
              "       '2021-02-17', '2021-02-19', '2021-02-21', '2021-02-22',\n",
              "       '2021-02-23', '2021-02-25', '2021-02-27', '2021-02-28',\n",
              "       '2021-03-01', '2021-03-05', '2021-03-06', '2021-03-09',\n",
              "       '2021-03-12', '2021-03-13', '2021-03-14', '2021-03-18',\n",
              "       '2021-03-19', '2021-03-20', '2021-03-22', '2021-03-26',\n",
              "       '2021-03-27', '2021-03-28', '2020-10-23', '2020-03-29',\n",
              "       '2020-12-27', '2020-12-15', '2020-12-30', '2020-03-31',\n",
              "       '2020-03-18', '2020-03-15', '2020-11-02', '2020-11-03',\n",
              "       '2020-11-04', '2020-11-05', '2020-11-09', '2020-11-14',\n",
              "       '2020-11-16', '2020-11-17', '2020-11-18', '2020-11-19',\n",
              "       '2020-11-23', '2020-11-24', '2020-11-30', '2020-12-01',\n",
              "       '2020-12-03', '2020-12-04', '2020-12-05', '2020-12-06',\n",
              "       '2020-12-07', '2020-12-08', '2020-12-09', '2020-12-12',\n",
              "       '2020-12-16', '2020-12-17', '2020-12-18', '2020-12-19',\n",
              "       '2020-12-20', '2020-12-21', '2020-12-23', '2020-12-24',\n",
              "       '2020-12-25', '2020-12-26', '2021-01-04', '2021-01-05',\n",
              "       '2021-01-06', '2021-01-08', '2021-01-14', '2021-01-15',\n",
              "       '2021-01-18', '2021-01-26', '2021-01-28', '2021-02-16',\n",
              "       '2021-02-20', '2021-02-24', '2021-03-02', '2021-03-04',\n",
              "       '2021-03-07', '2021-03-10', '2021-03-11', '2021-03-16',\n",
              "       '2021-03-29', '2021-03-30', '2020-10-21', '2020-11-25',\n",
              "       '2021-01-29', '2021-01-31', '2021-02-02', '2021-02-13',\n",
              "       '2021-02-26', '2021-03-03', '2021-03-21', '2020-12-28',\n",
              "       '2020-11-01', '2020-11-22', '2021-02-08', '2020-12-13',\n",
              "       '2020-12-29', '2021-01-03', '2021-03-08', '2020-11-12',\n",
              "       '2020-11-13', '2020-11-15', '2020-12-10', '2021-01-25',\n",
              "       '2021-02-18', '2020-11-06', '2020-11-11', '2020-11-20',\n",
              "       '2020-11-26', '2020-12-02', '2020-10-28', '2020-12-11',\n",
              "       '2020-12-14', '2020-12-22', '2021-01-02', '2021-02-11',\n",
              "       '2020-04-03', '2020-11-29', '2020-09-23', '2020-10-18',\n",
              "       '2020-09-18', '2020-10-29', '2020-11-21', '2020-10-26',\n",
              "       '2020-10-25', '2020-09-17', '2020-03-30', '2020-10-19',\n",
              "       '2020-03-26', '2020-02-15', '2021-03-25', '2020-10-24',\n",
              "       '2020-10-27', '2020-10-30', '2020-10-31', '2020-09-09',\n",
              "       '2020-10-04', '2020-10-17', '2020-03-25', '2020-09-24',\n",
              "       '2020-10-05', '2020-09-11', '2020-03-21', '2020-09-14',\n",
              "       '2020-09-07', '2020-10-20', '2020-09-15', '2020-09-13',\n",
              "       '2020-10-06', '2020-09-08', '2020-03-20', '2020-06-04',\n",
              "       '2020-09-04', '2020-03-13', '2020-11-27', '2020-09-22',\n",
              "       '2020-10-22', '2020-09-19', '2020-09-25', '2020-10-02',\n",
              "       '2020-01-02', '2020-10-01', '2020-09-10', '2020-03-19',\n",
              "       '2020-09-21', '2020-03-24', '2020-09-29', '2020-11-28',\n",
              "       '2021-03-24', '2020-09-06', '2020-06-09', '2020-03-02',\n",
              "       '2020-04-08', '2020-09-27', '2000-01-01', '2020-02-16',\n",
              "       '2020-04-04', '2020-05-11', '2020-08-28', '2020-03-14',\n",
              "       '2020-08-30', '2020-04-02', '2020-09-30', '2020-05-06',\n",
              "       '2020-03-01', '2020-01-15', '2020-10-03', '2020-08-21',\n",
              "       '2020-02-07', '2020-04-10', '2020-03-17', '2020-05-13',\n",
              "       '2020-07-24', '2020-08-20', '2020-05-01', '2020-06-24',\n",
              "       '2020-09-02'], dtype=object)"
            ]
          },
          "metadata": {
            "tags": []
          },
          "execution_count": 20
        }
      ]
    },
    {
      "cell_type": "code",
      "metadata": {
        "colab": {
          "base_uri": "https://localhost:8080/"
        },
        "id": "Vnh6sIJiTbRy",
        "outputId": "5da4d29f-90c0-4e1d-a1b6-f74a6f5d7e49"
      },
      "source": [
        "df1_price.shape"
      ],
      "execution_count": 21,
      "outputs": [
        {
          "output_type": "execute_result",
          "data": {
            "text/plain": [
              "(354520, 7)"
            ]
          },
          "metadata": {
            "tags": []
          },
          "execution_count": 21
        }
      ]
    },
    {
      "cell_type": "markdown",
      "metadata": {
        "id": "YgEBKfLQ97ox"
      },
      "source": [
        "# 1. Sort suburb in ascending order of number of listings"
      ]
    },
    {
      "cell_type": "code",
      "metadata": {
        "id": "g0M4U9nk_r2D"
      },
      "source": [
        "# Removes features not needed for analysis\n",
        "df3_details = df2_details.drop(columns=['ad_name'])"
      ],
      "execution_count": 22,
      "outputs": []
    },
    {
      "cell_type": "code",
      "metadata": {
        "colab": {
          "base_uri": "https://localhost:8080/",
          "height": 204
        },
        "id": "JF7cbpq-jnwM",
        "outputId": "031e5e21-4b42-4b8d-8805-03b3156e281f"
      },
      "source": [
        "# Sorts dataset in ascending order according to number of listings in each suburb\n",
        "df3_details = df3_details.groupby('suburb', as_index=False).airbnb_listing_id.count()\n",
        "df3_details.sort_values(['airbnb_listing_id'], inplace=True)\n",
        "df3_details"
      ],
      "execution_count": 23,
      "outputs": [
        {
          "output_type": "execute_result",
          "data": {
            "text/html": [
              "<div>\n",
              "<style scoped>\n",
              "    .dataframe tbody tr th:only-of-type {\n",
              "        vertical-align: middle;\n",
              "    }\n",
              "\n",
              "    .dataframe tbody tr th {\n",
              "        vertical-align: top;\n",
              "    }\n",
              "\n",
              "    .dataframe thead th {\n",
              "        text-align: right;\n",
              "    }\n",
              "</style>\n",
              "<table border=\"1\" class=\"dataframe\">\n",
              "  <thead>\n",
              "    <tr style=\"text-align: right;\">\n",
              "      <th></th>\n",
              "      <th>suburb</th>\n",
              "      <th>airbnb_listing_id</th>\n",
              "    </tr>\n",
              "  </thead>\n",
              "  <tbody>\n",
              "    <tr>\n",
              "      <th>1</th>\n",
              "      <td>Centro</td>\n",
              "      <td>238</td>\n",
              "    </tr>\n",
              "    <tr>\n",
              "      <th>4</th>\n",
              "      <td>Lagoa da Conceição</td>\n",
              "      <td>258</td>\n",
              "    </tr>\n",
              "    <tr>\n",
              "      <th>3</th>\n",
              "      <td>Jurerê</td>\n",
              "      <td>498</td>\n",
              "    </tr>\n",
              "    <tr>\n",
              "      <th>0</th>\n",
              "      <td>Canasvieiras</td>\n",
              "      <td>1125</td>\n",
              "    </tr>\n",
              "    <tr>\n",
              "      <th>2</th>\n",
              "      <td>Ingleses</td>\n",
              "      <td>2281</td>\n",
              "    </tr>\n",
              "  </tbody>\n",
              "</table>\n",
              "</div>"
            ],
            "text/plain": [
              "               suburb  airbnb_listing_id\n",
              "1              Centro                238\n",
              "4  Lagoa da Conceição                258\n",
              "3              Jurerê                498\n",
              "0        Canasvieiras               1125\n",
              "2            Ingleses               2281"
            ]
          },
          "metadata": {
            "tags": []
          },
          "execution_count": 23
        }
      ]
    },
    {
      "cell_type": "code",
      "metadata": {
        "colab": {
          "base_uri": "https://localhost:8080/",
          "height": 345
        },
        "id": "iQXh41NQlbKG",
        "outputId": "af3dc7d0-84ce-4f5c-ca85-2249713718ca"
      },
      "source": [
        "# Showing with graph\n",
        "\n",
        "plt.bar(df3_details.suburb, df3_details.airbnb_listing_id)\n",
        "plt.xlabel('Suburb')\n",
        "plt.xticks(rotation=30)\n",
        "plt.ylabel('Number of Listings')"
      ],
      "execution_count": 24,
      "outputs": [
        {
          "output_type": "execute_result",
          "data": {
            "text/plain": [
              "Text(0, 0.5, 'Number of Listings')"
            ]
          },
          "metadata": {
            "tags": []
          },
          "execution_count": 24
        },
        {
          "output_type": "display_data",
          "data": {
            "image/png": "[encoded data removed]",
            "text/plain": [
              "<Figure size 432x288 with 1 Axes>"
            ]
          },
          "metadata": {
            "tags": [],
            "needs_background": "light"
          }
        }
      ]
    },
    {
      "cell_type": "markdown",
      "metadata": {
        "id": "LVuyqYtZBfWS"
      },
      "source": [
        "# 2. Sort the suburb in ascending order of average listing earnings."
      ]
    },
    {
      "cell_type": "code",
      "metadata": {
        "colab": {
          "base_uri": "https://localhost:8080/",
          "height": 204
        },
        "id": "30POKC8ygx86",
        "outputId": "4577bdc6-7092-4627-a1d6-03dd1db785cf"
      },
      "source": [
        "# Removes features not needed for analysis\n",
        "df2_price = df1_price.drop(columns=['Unnamed: 0', 'Unnamed: 0.1'])\n",
        "df2_price.head()"
      ],
      "execution_count": 25,
      "outputs": [
        {
          "output_type": "execute_result",
          "data": {
            "text/html": [
              "<div>\n",
              "<style scoped>\n",
              "    .dataframe tbody tr th:only-of-type {\n",
              "        vertical-align: middle;\n",
              "    }\n",
              "\n",
              "    .dataframe tbody tr th {\n",
              "        vertical-align: top;\n",
              "    }\n",
              "\n",
              "    .dataframe thead th {\n",
              "        text-align: right;\n",
              "    }\n",
              "</style>\n",
              "<table border=\"1\" class=\"dataframe\">\n",
              "  <thead>\n",
              "    <tr style=\"text-align: right;\">\n",
              "      <th></th>\n",
              "      <th>airbnb_listing_id</th>\n",
              "      <th>booked_on</th>\n",
              "      <th>date</th>\n",
              "      <th>price_string</th>\n",
              "      <th>occupied</th>\n",
              "    </tr>\n",
              "  </thead>\n",
              "  <tbody>\n",
              "    <tr>\n",
              "      <th>0</th>\n",
              "      <td>40201349</td>\n",
              "      <td>blank</td>\n",
              "      <td>2020-11-15</td>\n",
              "      <td>250.0</td>\n",
              "      <td>0</td>\n",
              "    </tr>\n",
              "    <tr>\n",
              "      <th>1</th>\n",
              "      <td>40201349</td>\n",
              "      <td>blank</td>\n",
              "      <td>2020-11-26</td>\n",
              "      <td>250.0</td>\n",
              "      <td>0</td>\n",
              "    </tr>\n",
              "    <tr>\n",
              "      <th>2</th>\n",
              "      <td>40201349</td>\n",
              "      <td>blank</td>\n",
              "      <td>2020-11-27</td>\n",
              "      <td>250.0</td>\n",
              "      <td>0</td>\n",
              "    </tr>\n",
              "    <tr>\n",
              "      <th>3</th>\n",
              "      <td>40201349</td>\n",
              "      <td>blank</td>\n",
              "      <td>2020-12-10</td>\n",
              "      <td>250.0</td>\n",
              "      <td>0</td>\n",
              "    </tr>\n",
              "    <tr>\n",
              "      <th>4</th>\n",
              "      <td>40201349</td>\n",
              "      <td>blank</td>\n",
              "      <td>2021-02-01</td>\n",
              "      <td>250.0</td>\n",
              "      <td>0</td>\n",
              "    </tr>\n",
              "  </tbody>\n",
              "</table>\n",
              "</div>"
            ],
            "text/plain": [
              "   airbnb_listing_id booked_on        date  price_string  occupied\n",
              "0           40201349     blank  2020-11-15         250.0         0\n",
              "1           40201349     blank  2020-11-26         250.0         0\n",
              "2           40201349     blank  2020-11-27         250.0         0\n",
              "3           40201349     blank  2020-12-10         250.0         0\n",
              "4           40201349     blank  2021-02-01         250.0         0"
            ]
          },
          "metadata": {
            "tags": []
          },
          "execution_count": 25
        }
      ]
    },
    {
      "cell_type": "code",
      "metadata": {
        "colab": {
          "base_uri": "https://localhost:8080/",
          "height": 204
        },
        "id": "8II67MusLxjH",
        "outputId": "135fb1e6-4b06-4a44-b9af-388788e3c8aa"
      },
      "source": [
        "# Selects only occupied IDs\n",
        "df3_price = df2_price.get(df2_price['occupied']==1)\n",
        "df3_price.head()"
      ],
      "execution_count": 26,
      "outputs": [
        {
          "output_type": "execute_result",
          "data": {
            "text/html": [
              "<div>\n",
              "<style scoped>\n",
              "    .dataframe tbody tr th:only-of-type {\n",
              "        vertical-align: middle;\n",
              "    }\n",
              "\n",
              "    .dataframe tbody tr th {\n",
              "        vertical-align: top;\n",
              "    }\n",
              "\n",
              "    .dataframe thead th {\n",
              "        text-align: right;\n",
              "    }\n",
              "</style>\n",
              "<table border=\"1\" class=\"dataframe\">\n",
              "  <thead>\n",
              "    <tr style=\"text-align: right;\">\n",
              "      <th></th>\n",
              "      <th>airbnb_listing_id</th>\n",
              "      <th>booked_on</th>\n",
              "      <th>date</th>\n",
              "      <th>price_string</th>\n",
              "      <th>occupied</th>\n",
              "    </tr>\n",
              "  </thead>\n",
              "  <tbody>\n",
              "    <tr>\n",
              "      <th>12</th>\n",
              "      <td>40206270</td>\n",
              "      <td>2021-01-01</td>\n",
              "      <td>2021-01-01</td>\n",
              "      <td>380.0</td>\n",
              "      <td>1</td>\n",
              "    </tr>\n",
              "    <tr>\n",
              "      <th>13</th>\n",
              "      <td>40206270</td>\n",
              "      <td>2021-01-01</td>\n",
              "      <td>2021-01-02</td>\n",
              "      <td>380.0</td>\n",
              "      <td>1</td>\n",
              "    </tr>\n",
              "    <tr>\n",
              "      <th>52</th>\n",
              "      <td>40206270</td>\n",
              "      <td>2021-02-10</td>\n",
              "      <td>2021-02-10</td>\n",
              "      <td>195.0</td>\n",
              "      <td>1</td>\n",
              "    </tr>\n",
              "    <tr>\n",
              "      <th>53</th>\n",
              "      <td>40206270</td>\n",
              "      <td>2021-02-10</td>\n",
              "      <td>2021-02-11</td>\n",
              "      <td>350.0</td>\n",
              "      <td>1</td>\n",
              "    </tr>\n",
              "    <tr>\n",
              "      <th>54</th>\n",
              "      <td>40206270</td>\n",
              "      <td>2021-02-10</td>\n",
              "      <td>2021-02-12</td>\n",
              "      <td>350.0</td>\n",
              "      <td>1</td>\n",
              "    </tr>\n",
              "  </tbody>\n",
              "</table>\n",
              "</div>"
            ],
            "text/plain": [
              "    airbnb_listing_id   booked_on        date  price_string  occupied\n",
              "12           40206270  2021-01-01  2021-01-01         380.0         1\n",
              "13           40206270  2021-01-01  2021-01-02         380.0         1\n",
              "52           40206270  2021-02-10  2021-02-10         195.0         1\n",
              "53           40206270  2021-02-10  2021-02-11         350.0         1\n",
              "54           40206270  2021-02-10  2021-02-12         350.0         1"
            ]
          },
          "metadata": {
            "tags": []
          },
          "execution_count": 26
        }
      ]
    },
    {
      "cell_type": "code",
      "metadata": {
        "id": "af-tHGWjbOE_"
      },
      "source": [
        "# Combine datasets\n",
        "df_merged = pd.merge(df2_details, df3_price, how='inner')\n",
        "df_merged.rename(columns={'price_string':'billing'}, inplace=True)"
      ],
      "execution_count": 27,
      "outputs": []
    },
    {
      "cell_type": "code",
      "metadata": {
        "id": "mZWsxCepxDuc"
      },
      "source": [
        "# Calculates average ad billing\n",
        "df2_merged = df_merged.groupby('suburb', as_index=False).billing.mean().round(2)\n",
        "df2_merged.sort_values(['billing'], inplace=True)"
      ],
      "execution_count": 28,
      "outputs": []
    },
    {
      "cell_type": "code",
      "metadata": {
        "colab": {
          "base_uri": "https://localhost:8080/",
          "height": 345
        },
        "id": "HyPMEMKBicBu",
        "outputId": "bcb632ef-91e3-479d-c51f-7a8c43001b74"
      },
      "source": [
        "plt.bar(df2_merged.suburb, df2_merged.billing)\n",
        "plt.xlabel('Suburb')\n",
        "plt.xticks(rotation=30)\n",
        "plt.ylabel('Billing')"
      ],
      "execution_count": 29,
      "outputs": [
        {
          "output_type": "execute_result",
          "data": {
            "text/plain": [
              "Text(0, 0.5, 'Billing')"
            ]
          },
          "metadata": {
            "tags": []
          },
          "execution_count": 29
        },
        {
          "output_type": "display_data",
          "data": {
            "image/png": "[encoded data removed]",
            "text/plain": [
              "<Figure size 432x288 with 1 Axes>"
            ]
          },
          "metadata": {
            "tags": [],
            "needs_background": "light"
          }
        }
      ]
    },
    {
      "cell_type": "markdown",
      "metadata": {
        "id": "vJCziahVobWr"
      },
      "source": [
        "# 3. Is there any correlation between the characteristics of an ad and its billing? That are? Explain."
      ]
    },
    {
      "cell_type": "code",
      "metadata": {
        "colab": {
          "base_uri": "https://localhost:8080/",
          "height": 86
        },
        "id": "yLrSP8GObY8d",
        "outputId": "0be2b7ff-81fd-477f-8dd5-83ce3c9e9038"
      },
      "source": [
        "'''import statsmodels.api as sm\n",
        "\n",
        "def calc_vif(df):\n",
        "  vif_df = pd.DataFrame(columns = ['Var', 'Vif'])\n",
        "  x_var_names = df.columns\n",
        "\n",
        "  for i in range(0, x_var_names.shape[0]):\n",
        "    y = df[x_var_names[i]]\n",
        "    x = df(x_var_names.drop([x_var_names[i]]))\n",
        "    r_squared = sm.OLS(y,x).fit().rsquared\n",
        "    vif = round(1/(1-r_squared),2)\n",
        "    vif_df.loc[i] = [x_var_names[i], vif]\n",
        "  \n",
        "  return vif_df.sort_values(by = 'Vif', axis = 0, ascending=False, inplace=False)'''"
      ],
      "execution_count": 30,
      "outputs": [
        {
          "output_type": "execute_result",
          "data": {
            "application/vnd.google.colaboratory.intrinsic+json": {
              "type": "string"
            },
            "text/plain": [
              "\"import statsmodels.api as sm\\n\\ndef calc_vif(df):\\n  vif_df = pd.DataFrame(columns = ['Var', 'Vif'])\\n  x_var_names = df.columns\\n\\n  for i in range(0, x_var_names.shape[0]):\\n    y = df[x_var_names[i]]\\n    x = df(x_var_names.drop([x_var_names[i]]))\\n    r_squared = sm.OLS(y,x).fit().rsquared\\n    vif = round(1/(1-r_squared),2)\\n    vif_df.loc[i] = [x_var_names[i], vif]\\n  \\n  return vif_df.sort_values(by = 'Vif', axis = 0, ascending=False, inplace=False)\""
            ]
          },
          "metadata": {
            "tags": []
          },
          "execution_count": 30
        }
      ]
    },
    {
      "cell_type": "code",
      "metadata": {
        "colab": {
          "base_uri": "https://localhost:8080/"
        },
        "id": "VD2AK3PzSnrm",
        "outputId": "fbf65b99-af7f-4fde-b6d2-062770aa9a33"
      },
      "source": [
        "from sklearn.preprocessing import OneHotEncoder\n",
        "encoder = OneHotEncoder()\n",
        "\n",
        "X = encoder.fit_transform(df_merged.suburb.values.reshape(-1,1)).toarray()\n",
        "X"
      ],
      "execution_count": 31,
      "outputs": [
        {
          "output_type": "execute_result",
          "data": {
            "text/plain": [
              "array([[0., 0., 0., 1., 0.],\n",
              "       [0., 0., 0., 1., 0.],\n",
              "       [0., 0., 0., 1., 0.],\n",
              "       ...,\n",
              "       [0., 0., 1., 0., 0.],\n",
              "       [0., 0., 1., 0., 0.],\n",
              "       [0., 0., 1., 0., 0.]])"
            ]
          },
          "metadata": {
            "tags": []
          },
          "execution_count": 31
        }
      ]
    },
    {
      "cell_type": "code",
      "metadata": {
        "id": "uhmw626qgvXc"
      },
      "source": [
        "suburb_encoded = pd.DataFrame(X, columns = ['A', 'B', 'C', 'D', 'E'])"
      ],
      "execution_count": 32,
      "outputs": []
    },
    {
      "cell_type": "code",
      "metadata": {
        "id": "afycG89IgbeG"
      },
      "source": [
        "df_analysis = df_merged.join(suburb_encoded, lsuffix='_caller', rsuffix='_other')\n",
        "df_analysis = df_analysis.drop(columns=['suburb', 'ad_name', 'booked_on', 'date', 'occupied'])"
      ],
      "execution_count": 51,
      "outputs": []
    },
    {
      "cell_type": "code",
      "metadata": {
        "colab": {
          "base_uri": "https://localhost:8080/",
          "height": 546
        },
        "id": "AH7yKzevMrWs",
        "outputId": "ff47cf51-395b-4a7a-d3e3-d55cb3c81466"
      },
      "source": [
        "import matplotlib.pyplot as plt\n",
        "import seaborn as sns\n",
        "\n",
        "plt.figure(figsize=(10, 7))\n",
        "sns.heatmap(df_analysis.corr(),\n",
        "            annot = True,\n",
        "            fmt = '.2f',\n",
        "            cmap='Blues')\n",
        "plt.title('Correlação entre variáveis do dataset')\n",
        "plt.show()"
      ],
      "execution_count": 52,
      "outputs": [
        {
          "output_type": "display_data",
          "data": {
            "image/png": "[encoded data removed]",
            "text/plain": [
              "<Figure size 720x504 with 2 Axes>"
            ]
          },
          "metadata": {
            "tags": [],
            "needs_background": "light"
          }
        }
      ]
    },
    {
      "cell_type": "code",
      "metadata": {
        "id": "d6IxCJKMtz4V"
      },
      "source": [
        " relation_billing_suburb = df_merged.groupby('suburb', as_index=False).billing.sum().round(2)\n",
        " relation_billing_bedrooms = df_merged.groupby('number_of_bedrooms', as_index=False).billing.sum().round(2)\n",
        " relation_billing_bathrooms = df_merged.groupby('number_of_bathrooms', as_index=False).billing.sum().round(2)\n",
        " relation_billing_rating = df_merged.groupby('star_rating', as_index=False).billing.sum().round(2)\n",
        " relation_billing_is_superhost = df_merged.groupby('is_superhost', as_index=False).billing.sum().round(2)"
      ],
      "execution_count": 35,
      "outputs": []
    },
    {
      "cell_type": "code",
      "metadata": {
        "colab": {
          "base_uri": "https://localhost:8080/",
          "height": 367
        },
        "id": "yJAcbBGO2Djf",
        "outputId": "f71bb65c-4df9-459f-db79-3671774590b7"
      },
      "source": [
        "fig, axes = plt.subplots(nrows=1, ncols=3, figsize=(25, 6))\n",
        "axes[0].bar(relation_billing_suburb.suburb, relation_billing_suburb.billing)\n",
        "axes[0].set_xlabel('Suburb')\n",
        "axes[0].set_ylabel('Billing')\n",
        "axes[0].set_title('Relation Suburb | Billing')\n",
        "\n",
        "axes[1].bar(relation_billing_bedrooms.number_of_bedrooms, relation_billing_bedrooms.billing)\n",
        "axes[1].set_xlabel('Number of Bedrooms')\n",
        "axes[1].set_ylabel('Billing')\n",
        "axes[1].set_title('Relation Bedrooms | Billing')\n",
        "\n",
        "axes[2].bar(relation_billing_bathrooms.number_of_bathrooms, relation_billing_bathrooms.billing)\n",
        "axes[2].set_xlabel('Number of Bathrooms')\n",
        "axes[2].set_ylabel('Billing')\n",
        "axes[2].set_title('Relation Bathrooms | Billing')"
      ],
      "execution_count": 36,
      "outputs": [
        {
          "output_type": "execute_result",
          "data": {
            "text/plain": [
              "Text(0.5, 1.0, 'Relation Bathrooms | Billing')"
            ]
          },
          "metadata": {
            "tags": []
          },
          "execution_count": 36
        },
        {
          "output_type": "display_data",
          "data": {
            "image/png": "[encoded data removed]",
            "text/plain": [
              "<Figure size 1800x432 with 3 Axes>"
            ]
          },
          "metadata": {
            "tags": [],
            "needs_background": "light"
          }
        }
      ]
    },
    {
      "cell_type": "code",
      "metadata": {
        "colab": {
          "base_uri": "https://localhost:8080/",
          "height": 421
        },
        "id": "qpLuEprC5cvG",
        "outputId": "fbe00628-5a17-4811-d6b8-90e8ba32b297"
      },
      "source": [
        "fig, axes = plt.subplots(nrows=1, ncols=2, figsize=(18, 6))\n",
        "axes[0].bar(relation_billing_rating.star_rating, relation_billing_rating.billing)\n",
        "axes[0].set_xlabel('Ratings')\n",
        "axes[0].set_ylabel('Billing')\n",
        "axes[0].set_title('Relation Ratings | Billing')\n",
        "\n",
        "axes[1].bar(relation_billing_is_superhost.is_superhost, relation_billing_is_superhost.billing)\n",
        "axes[1].set_xlabel('Is Superhost')\n",
        "axes[1].set_ylabel('Billing')\n",
        "axes[1].set_title('Relation Superhost | Billing')"
      ],
      "execution_count": 37,
      "outputs": [
        {
          "output_type": "execute_result",
          "data": {
            "text/plain": [
              "Text(0.5, 1.0, 'Relation Superhost | Billing')"
            ]
          },
          "metadata": {
            "tags": []
          },
          "execution_count": 37
        },
        {
          "output_type": "display_data",
          "data": {
            "image/png": "[encoded data removed]",
            "text/plain": [
              "<Figure size 1296x432 with 2 Axes>"
            ]
          },
          "metadata": {
            "tags": [],
            "needs_background": "light"
          }
        }
      ]
    },
    {
      "cell_type": "markdown",
      "metadata": {
        "id": "PnklZONq02HU"
      },
      "source": [
        "# 4. What is the average advance of reservations? Is this number higher or lower for weekends?"
      ]
    },
    {
      "cell_type": "code",
      "metadata": {
        "colab": {
          "base_uri": "https://localhost:8080/",
          "height": 419
        },
        "id": "YMj9aJLGTcQO",
        "outputId": "e506889a-dc6a-4ca8-c137-016f56d70e52"
      },
      "source": [
        "# Get the weekday starting from Monday with index = 0 \n",
        "df5_price = df3_price.copy()\n",
        "\n",
        "df5_price['booked_on'] = pd.to_datetime(df5_price['booked_on'])\n",
        "df5_price['date'] = pd.to_datetime(df5_price['date'])\n",
        "\n",
        "df5_price['days'] = df5_price['date'].dt.weekday\n",
        "df5_price['months'] = df5_price['date'].dt.month_name()\n",
        "df5_price"
      ],
      "execution_count": 38,
      "outputs": [
        {
          "output_type": "execute_result",
          "data": {
            "text/html": [
              "<div>\n",
              "<style scoped>\n",
              "    .dataframe tbody tr th:only-of-type {\n",
              "        vertical-align: middle;\n",
              "    }\n",
              "\n",
              "    .dataframe tbody tr th {\n",
              "        vertical-align: top;\n",
              "    }\n",
              "\n",
              "    .dataframe thead th {\n",
              "        text-align: right;\n",
              "    }\n",
              "</style>\n",
              "<table border=\"1\" class=\"dataframe\">\n",
              "  <thead>\n",
              "    <tr style=\"text-align: right;\">\n",
              "      <th></th>\n",
              "      <th>airbnb_listing_id</th>\n",
              "      <th>booked_on</th>\n",
              "      <th>date</th>\n",
              "      <th>price_string</th>\n",
              "      <th>occupied</th>\n",
              "      <th>days</th>\n",
              "      <th>months</th>\n",
              "    </tr>\n",
              "  </thead>\n",
              "  <tbody>\n",
              "    <tr>\n",
              "      <th>12</th>\n",
              "      <td>40206270</td>\n",
              "      <td>2021-01-01</td>\n",
              "      <td>2021-01-01</td>\n",
              "      <td>380.0</td>\n",
              "      <td>1</td>\n",
              "      <td>4</td>\n",
              "      <td>January</td>\n",
              "    </tr>\n",
              "    <tr>\n",
              "      <th>13</th>\n",
              "      <td>40206270</td>\n",
              "      <td>2021-01-01</td>\n",
              "      <td>2021-01-02</td>\n",
              "      <td>380.0</td>\n",
              "      <td>1</td>\n",
              "      <td>5</td>\n",
              "      <td>January</td>\n",
              "    </tr>\n",
              "    <tr>\n",
              "      <th>52</th>\n",
              "      <td>40206270</td>\n",
              "      <td>2021-02-10</td>\n",
              "      <td>2021-02-10</td>\n",
              "      <td>195.0</td>\n",
              "      <td>1</td>\n",
              "      <td>2</td>\n",
              "      <td>February</td>\n",
              "    </tr>\n",
              "    <tr>\n",
              "      <th>53</th>\n",
              "      <td>40206270</td>\n",
              "      <td>2021-02-10</td>\n",
              "      <td>2021-02-11</td>\n",
              "      <td>350.0</td>\n",
              "      <td>1</td>\n",
              "      <td>3</td>\n",
              "      <td>February</td>\n",
              "    </tr>\n",
              "    <tr>\n",
              "      <th>54</th>\n",
              "      <td>40206270</td>\n",
              "      <td>2021-02-10</td>\n",
              "      <td>2021-02-12</td>\n",
              "      <td>350.0</td>\n",
              "      <td>1</td>\n",
              "      <td>4</td>\n",
              "      <td>February</td>\n",
              "    </tr>\n",
              "    <tr>\n",
              "      <th>...</th>\n",
              "      <td>...</td>\n",
              "      <td>...</td>\n",
              "      <td>...</td>\n",
              "      <td>...</td>\n",
              "      <td>...</td>\n",
              "      <td>...</td>\n",
              "      <td>...</td>\n",
              "    </tr>\n",
              "    <tr>\n",
              "      <th>354508</th>\n",
              "      <td>40199361</td>\n",
              "      <td>2020-09-16</td>\n",
              "      <td>2021-03-19</td>\n",
              "      <td>250.0</td>\n",
              "      <td>1</td>\n",
              "      <td>4</td>\n",
              "      <td>March</td>\n",
              "    </tr>\n",
              "    <tr>\n",
              "      <th>354514</th>\n",
              "      <td>40199361</td>\n",
              "      <td>2020-09-14</td>\n",
              "      <td>2021-03-25</td>\n",
              "      <td>250.0</td>\n",
              "      <td>1</td>\n",
              "      <td>3</td>\n",
              "      <td>March</td>\n",
              "    </tr>\n",
              "    <tr>\n",
              "      <th>354517</th>\n",
              "      <td>40199361</td>\n",
              "      <td>2020-09-14</td>\n",
              "      <td>2021-03-28</td>\n",
              "      <td>250.0</td>\n",
              "      <td>1</td>\n",
              "      <td>6</td>\n",
              "      <td>March</td>\n",
              "    </tr>\n",
              "    <tr>\n",
              "      <th>354518</th>\n",
              "      <td>40199361</td>\n",
              "      <td>2020-09-14</td>\n",
              "      <td>2021-03-29</td>\n",
              "      <td>250.0</td>\n",
              "      <td>1</td>\n",
              "      <td>0</td>\n",
              "      <td>March</td>\n",
              "    </tr>\n",
              "    <tr>\n",
              "      <th>354519</th>\n",
              "      <td>40199361</td>\n",
              "      <td>2020-12-03</td>\n",
              "      <td>2021-03-30</td>\n",
              "      <td>200.0</td>\n",
              "      <td>1</td>\n",
              "      <td>1</td>\n",
              "      <td>March</td>\n",
              "    </tr>\n",
              "  </tbody>\n",
              "</table>\n",
              "<p>140508 rows × 7 columns</p>\n",
              "</div>"
            ],
            "text/plain": [
              "        airbnb_listing_id  booked_on       date  ...  occupied  days    months\n",
              "12               40206270 2021-01-01 2021-01-01  ...         1     4   January\n",
              "13               40206270 2021-01-01 2021-01-02  ...         1     5   January\n",
              "52               40206270 2021-02-10 2021-02-10  ...         1     2  February\n",
              "53               40206270 2021-02-10 2021-02-11  ...         1     3  February\n",
              "54               40206270 2021-02-10 2021-02-12  ...         1     4  February\n",
              "...                   ...        ...        ...  ...       ...   ...       ...\n",
              "354508           40199361 2020-09-16 2021-03-19  ...         1     4     March\n",
              "354514           40199361 2020-09-14 2021-03-25  ...         1     3     March\n",
              "354517           40199361 2020-09-14 2021-03-28  ...         1     6     March\n",
              "354518           40199361 2020-09-14 2021-03-29  ...         1     0     March\n",
              "354519           40199361 2020-12-03 2021-03-30  ...         1     1     March\n",
              "\n",
              "[140508 rows x 7 columns]"
            ]
          },
          "metadata": {
            "tags": []
          },
          "execution_count": 38
        }
      ]
    },
    {
      "cell_type": "code",
      "metadata": {
        "id": "a9CnQWLBhOCe",
        "colab": {
          "base_uri": "https://localhost:8080/",
          "height": 419
        },
        "outputId": "170e39d8-f398-48db-d064-cbc4ce0bb7ef"
      },
      "source": [
        "# Getting advance of reservations in days\n",
        "df6_price = df5_price\n",
        "df6_price['advance_booking'] = (df5_price['date'] - df5_price['booked_on']).dt.days\n",
        "df6_price"
      ],
      "execution_count": 39,
      "outputs": [
        {
          "output_type": "execute_result",
          "data": {
            "text/html": [
              "<div>\n",
              "<style scoped>\n",
              "    .dataframe tbody tr th:only-of-type {\n",
              "        vertical-align: middle;\n",
              "    }\n",
              "\n",
              "    .dataframe tbody tr th {\n",
              "        vertical-align: top;\n",
              "    }\n",
              "\n",
              "    .dataframe thead th {\n",
              "        text-align: right;\n",
              "    }\n",
              "</style>\n",
              "<table border=\"1\" class=\"dataframe\">\n",
              "  <thead>\n",
              "    <tr style=\"text-align: right;\">\n",
              "      <th></th>\n",
              "      <th>airbnb_listing_id</th>\n",
              "      <th>booked_on</th>\n",
              "      <th>date</th>\n",
              "      <th>price_string</th>\n",
              "      <th>occupied</th>\n",
              "      <th>days</th>\n",
              "      <th>months</th>\n",
              "      <th>advance_booking</th>\n",
              "    </tr>\n",
              "  </thead>\n",
              "  <tbody>\n",
              "    <tr>\n",
              "      <th>12</th>\n",
              "      <td>40206270</td>\n",
              "      <td>2021-01-01</td>\n",
              "      <td>2021-01-01</td>\n",
              "      <td>380.0</td>\n",
              "      <td>1</td>\n",
              "      <td>4</td>\n",
              "      <td>January</td>\n",
              "      <td>0</td>\n",
              "    </tr>\n",
              "    <tr>\n",
              "      <th>13</th>\n",
              "      <td>40206270</td>\n",
              "      <td>2021-01-01</td>\n",
              "      <td>2021-01-02</td>\n",
              "      <td>380.0</td>\n",
              "      <td>1</td>\n",
              "      <td>5</td>\n",
              "      <td>January</td>\n",
              "      <td>1</td>\n",
              "    </tr>\n",
              "    <tr>\n",
              "      <th>52</th>\n",
              "      <td>40206270</td>\n",
              "      <td>2021-02-10</td>\n",
              "      <td>2021-02-10</td>\n",
              "      <td>195.0</td>\n",
              "      <td>1</td>\n",
              "      <td>2</td>\n",
              "      <td>February</td>\n",
              "      <td>0</td>\n",
              "    </tr>\n",
              "    <tr>\n",
              "      <th>53</th>\n",
              "      <td>40206270</td>\n",
              "      <td>2021-02-10</td>\n",
              "      <td>2021-02-11</td>\n",
              "      <td>350.0</td>\n",
              "      <td>1</td>\n",
              "      <td>3</td>\n",
              "      <td>February</td>\n",
              "      <td>1</td>\n",
              "    </tr>\n",
              "    <tr>\n",
              "      <th>54</th>\n",
              "      <td>40206270</td>\n",
              "      <td>2021-02-10</td>\n",
              "      <td>2021-02-12</td>\n",
              "      <td>350.0</td>\n",
              "      <td>1</td>\n",
              "      <td>4</td>\n",
              "      <td>February</td>\n",
              "      <td>2</td>\n",
              "    </tr>\n",
              "    <tr>\n",
              "      <th>...</th>\n",
              "      <td>...</td>\n",
              "      <td>...</td>\n",
              "      <td>...</td>\n",
              "      <td>...</td>\n",
              "      <td>...</td>\n",
              "      <td>...</td>\n",
              "      <td>...</td>\n",
              "      <td>...</td>\n",
              "    </tr>\n",
              "    <tr>\n",
              "      <th>354508</th>\n",
              "      <td>40199361</td>\n",
              "      <td>2020-09-16</td>\n",
              "      <td>2021-03-19</td>\n",
              "      <td>250.0</td>\n",
              "      <td>1</td>\n",
              "      <td>4</td>\n",
              "      <td>March</td>\n",
              "      <td>184</td>\n",
              "    </tr>\n",
              "    <tr>\n",
              "      <th>354514</th>\n",
              "      <td>40199361</td>\n",
              "      <td>2020-09-14</td>\n",
              "      <td>2021-03-25</td>\n",
              "      <td>250.0</td>\n",
              "      <td>1</td>\n",
              "      <td>3</td>\n",
              "      <td>March</td>\n",
              "      <td>192</td>\n",
              "    </tr>\n",
              "    <tr>\n",
              "      <th>354517</th>\n",
              "      <td>40199361</td>\n",
              "      <td>2020-09-14</td>\n",
              "      <td>2021-03-28</td>\n",
              "      <td>250.0</td>\n",
              "      <td>1</td>\n",
              "      <td>6</td>\n",
              "      <td>March</td>\n",
              "      <td>195</td>\n",
              "    </tr>\n",
              "    <tr>\n",
              "      <th>354518</th>\n",
              "      <td>40199361</td>\n",
              "      <td>2020-09-14</td>\n",
              "      <td>2021-03-29</td>\n",
              "      <td>250.0</td>\n",
              "      <td>1</td>\n",
              "      <td>0</td>\n",
              "      <td>March</td>\n",
              "      <td>196</td>\n",
              "    </tr>\n",
              "    <tr>\n",
              "      <th>354519</th>\n",
              "      <td>40199361</td>\n",
              "      <td>2020-12-03</td>\n",
              "      <td>2021-03-30</td>\n",
              "      <td>200.0</td>\n",
              "      <td>1</td>\n",
              "      <td>1</td>\n",
              "      <td>March</td>\n",
              "      <td>117</td>\n",
              "    </tr>\n",
              "  </tbody>\n",
              "</table>\n",
              "<p>140508 rows × 8 columns</p>\n",
              "</div>"
            ],
            "text/plain": [
              "        airbnb_listing_id  booked_on  ...    months  advance_booking\n",
              "12               40206270 2021-01-01  ...   January                0\n",
              "13               40206270 2021-01-01  ...   January                1\n",
              "52               40206270 2021-02-10  ...  February                0\n",
              "53               40206270 2021-02-10  ...  February                1\n",
              "54               40206270 2021-02-10  ...  February                2\n",
              "...                   ...        ...  ...       ...              ...\n",
              "354508           40199361 2020-09-16  ...     March              184\n",
              "354514           40199361 2020-09-14  ...     March              192\n",
              "354517           40199361 2020-09-14  ...     March              195\n",
              "354518           40199361 2020-09-14  ...     March              196\n",
              "354519           40199361 2020-12-03  ...     March              117\n",
              "\n",
              "[140508 rows x 8 columns]"
            ]
          },
          "metadata": {
            "tags": []
          },
          "execution_count": 39
        }
      ]
    },
    {
      "cell_type": "code",
      "metadata": {
        "colab": {
          "base_uri": "https://localhost:8080/"
        },
        "id": "squPK14rVsmD",
        "outputId": "099eca0e-3017-43a7-a5b0-0aa5e731ab45"
      },
      "source": [
        "# Removing outliers\n",
        "df7_price = df6_price[df6_price.advance_booking < 36]\n",
        "df7_price['advance_booking'].shape"
      ],
      "execution_count": 40,
      "outputs": [
        {
          "output_type": "execute_result",
          "data": {
            "text/plain": [
              "(100692,)"
            ]
          },
          "metadata": {
            "tags": []
          },
          "execution_count": 40
        }
      ]
    },
    {
      "cell_type": "code",
      "metadata": {
        "colab": {
          "base_uri": "https://localhost:8080/"
        },
        "id": "M03dSdS6DMzW",
        "outputId": "9eed505e-bb21-4dfc-a35f-18734e60ed57"
      },
      "source": [
        "# advance_booking average\n",
        "df7_price['advance_booking'].mean()"
      ],
      "execution_count": 41,
      "outputs": [
        {
          "output_type": "execute_result",
          "data": {
            "text/plain": [
              "8.193997537043657"
            ]
          },
          "metadata": {
            "tags": []
          },
          "execution_count": 41
        }
      ]
    },
    {
      "cell_type": "code",
      "metadata": {
        "colab": {
          "base_uri": "https://localhost:8080/",
          "height": 298
        },
        "id": "Z5h_WzBjy_-M",
        "outputId": "485cb7d1-2f80-46a9-d9c1-7c7368ce5608"
      },
      "source": [
        "plt.boxplot(df7_price.advance_booking)\n",
        "plt.ylabel('Days')\n",
        "plt.title('Advance booking')"
      ],
      "execution_count": 42,
      "outputs": [
        {
          "output_type": "execute_result",
          "data": {
            "text/plain": [
              "Text(0.5, 1.0, 'Advance booking')"
            ]
          },
          "metadata": {
            "tags": []
          },
          "execution_count": 42
        },
        {
          "output_type": "display_data",
          "data": {
            "image/png": "[encoded data removed]",
            "text/plain": [
              "<Figure size 432x288 with 1 Axes>"
            ]
          },
          "metadata": {
            "tags": [],
            "needs_background": "light"
          }
        }
      ]
    },
    {
      "cell_type": "code",
      "metadata": {
        "colab": {
          "base_uri": "https://localhost:8080/",
          "height": 266
        },
        "id": "FmhFem-VVYkw",
        "outputId": "0cdb0d51-7dd9-48e3-998b-23629e0788d9"
      },
      "source": [
        "# Average reservation per weekday\n",
        "df8_price = df7_price.groupby('days', as_index=False).advance_booking.mean().round(2)\n",
        "df8_price = df8_price.sort_values(['days'])\n",
        "df8_price"
      ],
      "execution_count": 43,
      "outputs": [
        {
          "output_type": "execute_result",
          "data": {
            "text/html": [
              "<div>\n",
              "<style scoped>\n",
              "    .dataframe tbody tr th:only-of-type {\n",
              "        vertical-align: middle;\n",
              "    }\n",
              "\n",
              "    .dataframe tbody tr th {\n",
              "        vertical-align: top;\n",
              "    }\n",
              "\n",
              "    .dataframe thead th {\n",
              "        text-align: right;\n",
              "    }\n",
              "</style>\n",
              "<table border=\"1\" class=\"dataframe\">\n",
              "  <thead>\n",
              "    <tr style=\"text-align: right;\">\n",
              "      <th></th>\n",
              "      <th>days</th>\n",
              "      <th>advance_booking</th>\n",
              "    </tr>\n",
              "  </thead>\n",
              "  <tbody>\n",
              "    <tr>\n",
              "      <th>0</th>\n",
              "      <td>0</td>\n",
              "      <td>8.11</td>\n",
              "    </tr>\n",
              "    <tr>\n",
              "      <th>1</th>\n",
              "      <td>1</td>\n",
              "      <td>7.66</td>\n",
              "    </tr>\n",
              "    <tr>\n",
              "      <th>2</th>\n",
              "      <td>2</td>\n",
              "      <td>7.97</td>\n",
              "    </tr>\n",
              "    <tr>\n",
              "      <th>3</th>\n",
              "      <td>3</td>\n",
              "      <td>8.25</td>\n",
              "    </tr>\n",
              "    <tr>\n",
              "      <th>4</th>\n",
              "      <td>4</td>\n",
              "      <td>8.37</td>\n",
              "    </tr>\n",
              "    <tr>\n",
              "      <th>5</th>\n",
              "      <td>5</td>\n",
              "      <td>8.35</td>\n",
              "    </tr>\n",
              "    <tr>\n",
              "      <th>6</th>\n",
              "      <td>6</td>\n",
              "      <td>8.58</td>\n",
              "    </tr>\n",
              "  </tbody>\n",
              "</table>\n",
              "</div>"
            ],
            "text/plain": [
              "   days  advance_booking\n",
              "0     0             8.11\n",
              "1     1             7.66\n",
              "2     2             7.97\n",
              "3     3             8.25\n",
              "4     4             8.37\n",
              "5     5             8.35\n",
              "6     6             8.58"
            ]
          },
          "metadata": {
            "tags": []
          },
          "execution_count": 43
        }
      ]
    },
    {
      "cell_type": "code",
      "metadata": {
        "colab": {
          "base_uri": "https://localhost:8080/",
          "height": 312
        },
        "id": "9oX58Q0iHm1S",
        "outputId": "5cc58296-9d7b-4702-eadd-41321481e28a"
      },
      "source": [
        "plt.plot(df8_price.days, df8_price.advance_booking)\n",
        "plt.xlabel('Days')\n",
        "plt.title('Advance booking')"
      ],
      "execution_count": 44,
      "outputs": [
        {
          "output_type": "execute_result",
          "data": {
            "text/plain": [
              "Text(0.5, 1.0, 'Advance booking')"
            ]
          },
          "metadata": {
            "tags": []
          },
          "execution_count": 44
        },
        {
          "output_type": "display_data",
          "data": {
            "image/png": "[encoded data removed]",
            "text/plain": [
              "<Figure size 432x288 with 1 Axes>"
            ]
          },
          "metadata": {
            "tags": [],
            "needs_background": "light"
          }
        }
      ]
    },
    {
      "cell_type": "markdown",
      "metadata": {
        "id": "i9TfVphXDI0U"
      },
      "source": [
        "## **CONCLUSÃO:** Desconsiderando os outliers, houve uma antecedência média de 8.19 dias nas reservas e esse número foi maior no final de semana"
      ]
    },
    {
      "cell_type": "markdown",
      "metadata": {
        "id": "Rdg-u_d4alHX"
      },
      "source": [
        "# Bonus Analysis"
      ]
    },
    {
      "cell_type": "markdown",
      "metadata": {
        "id": "JA_1FJaxZkD3"
      },
      "source": [
        "## For when properties were rented most often"
      ]
    },
    {
      "cell_type": "code",
      "metadata": {
        "colab": {
          "base_uri": "https://localhost:8080/"
        },
        "id": "olbSobRKLEna",
        "outputId": "3acbf56d-b15e-4b75-ef10-39e00bdb752c"
      },
      "source": [
        "# Checking the included months\n",
        "df7_price['months'].unique()"
      ],
      "execution_count": 45,
      "outputs": [
        {
          "output_type": "execute_result",
          "data": {
            "text/plain": [
              "array(['January', 'February', 'March', 'December', 'November'],\n",
              "      dtype=object)"
            ]
          },
          "metadata": {
            "tags": []
          },
          "execution_count": 45
        }
      ]
    },
    {
      "cell_type": "code",
      "metadata": {
        "id": "pPIPJKaTbTsa"
      },
      "source": [
        "# Grouping days and months by frequency\n",
        "df_days = df7_price.groupby('days', as_index=False).days.count()\n",
        "df_months = df7_price.groupby('months', as_index=False).months.count()"
      ],
      "execution_count": 46,
      "outputs": []
    },
    {
      "cell_type": "code",
      "metadata": {
        "id": "cYKOJt4C2byd"
      },
      "source": [
        "days = [\n",
        "        'Monday',\n",
        "        'Tuesday',\n",
        "        'Wednesday',\n",
        "        'Thursday',\n",
        "        'Friday',\n",
        "        'Saturday',\n",
        "        'Sunday'\n",
        "]\n",
        "\n",
        "months = [\n",
        "          'Jan',\n",
        "          'Feb',\n",
        "          'Marc',\n",
        "          'Nov',\n",
        "          'Dec'\n",
        "]"
      ],
      "execution_count": 47,
      "outputs": []
    },
    {
      "cell_type": "code",
      "metadata": {
        "colab": {
          "base_uri": "https://localhost:8080/",
          "height": 421
        },
        "id": "W3nsTn3LEANC",
        "outputId": "f0581096-9914-4c97-9ed5-7c7320ad37b9"
      },
      "source": [
        "# Ploting graphs for analysis\n",
        "\n",
        "fig, axes = plt.subplots(nrows=1, ncols=2, figsize=(18, 6))\n",
        "axes[0].plot(days, df_days)\n",
        "axes[0].set_xlabel('Weekday')\n",
        "axes[0].set_ylabel('Frequency')\n",
        "axes[0].set_title('Frequency of rented ads during the week')\n",
        "\n",
        "axes[1].plot(months, df_months)\n",
        "axes[1].set_xlabel('Months')\n",
        "axes[1].set_ylabel('Frequency')\n",
        "axes[1].set_title('Frequency of rented ads during the year')"
      ],
      "execution_count": 48,
      "outputs": [
        {
          "output_type": "execute_result",
          "data": {
            "text/plain": [
              "Text(0.5, 1.0, 'Frequency of rented ads during the year')"
            ]
          },
          "metadata": {
            "tags": []
          },
          "execution_count": 48
        },
        {
          "output_type": "display_data",
          "data": {
            "image/png": "[encoded data removed]",
            "text/plain": [
              "<Figure size 1296x432 with 2 Axes>"
            ]
          },
          "metadata": {
            "tags": [],
            "needs_background": "light"
          }
        }
      ]
    },
    {
      "cell_type": "markdown",
      "metadata": {
        "id": "AtudiQu2UpeL"
      },
      "source": [
        "## **CONCLUSÃO:** Como pode ser visualizado nos gráficos a cima, os alugueis dos imoveis anunciados estão focados nos finais de semana e no primeiro trimestre do ano, correspondente ao verão"
      ]
    }
  ]
}